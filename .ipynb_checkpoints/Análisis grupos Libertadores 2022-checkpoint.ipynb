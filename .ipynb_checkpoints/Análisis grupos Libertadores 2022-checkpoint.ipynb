{
 "cells": [
  {
   "cell_type": "markdown",
   "id": "2a90b103",
   "metadata": {},
   "source": [
    "# Análisis de simulación de sorteos de la Copa Libertadores 2022.\n",
    "\n",
    "El objetivo de este notebook es analizar los posibles grupos en los que se ubicaría Universidad Católica en la Copa Libertadores 2022.\n",
    "\n",
    "## 1. Obtención de los datos.\n",
    "\n",
    "Los datos se obtuvieron realizando más de 10.000 simulaciones de sorteos de la Copa Libertadores, utilizando la función _sortear_ del archivo sorteo.py ubicado en el repositorio [sorteo_libertadores](https://github.com/mumoyarce96/sorteo_libertadores).\n",
    "\n",
    "## 2. Descripción de los datos.\n",
    "\n",
    "Cada fila corresponde a un equipo. Los datos tienen los siguientes features:\n",
    "- **Bombo:** Bombo o bolillero en el que se encontraba el equipo. \n",
    "- **Equipo:** Nombre del equipo.\n",
    "- **Pais:** País del que el equipo es originario. Los equipos provenientes de las fases previas tienen _fase previa_ como valor en este feature.\n",
    "- **Grupo:** De A a H. Representa en qué grupo esta ubicado el equipo.\n",
    "- **id_sorteo:** Este feature permite diferenciar los distintos sorteos simulados.\n",
    "\n",
    "\n",
    "Inicialmente, los datos se ubican en la carpeta sorteos de este repositorio y cada simulación se encuentra en un archivo con el nombre sorteo+id_sorteo.csv. Por lo tanto, el primer paso en este análisis es juntar los datos de todos los sorteos en un dataframe y exportarlos a un archivo .csv llamado sorteos.csv para no tener que repetir este paso.\n",
    "\n",
    "A continuación se muestra el código de este primer paso, pero se deja comentado para evitar que se ejecute, debido a toma mucho tiempo en hacerlo. Es mejor saltarse esta celda y pasar a la celda de carga del archivo sorteos.csv."
   ]
  },
  {
   "cell_type": "code",
   "execution_count": 1,
   "id": "74a17596",
   "metadata": {},
   "outputs": [],
   "source": [
    "# Saltar esta celda y ejecutar la siguiente\n",
    "import pandas as pd\n",
    "import glob\n",
    "import os\n",
    "\n",
    "path = r'./sorteos'        \n",
    "all_files = glob.glob(os.path.join(path, \"*.csv\"))    \n",
    "\n",
    "# Cargar dataframe de sorteos de cada archivo\n",
    "#df_from_each_file = (pd.read_csv(f) for f in all_files)\n",
    "# Concatenar todos los dataframes\n",
    "#sorteos  = pd.concat(df_from_each_file, ignore_index=True)\n",
    "# Exportar a archivo sorteos.csv \n",
    "#sorteos.to_csv('sorteos.csv', index = False)"
   ]
  },
  {
   "cell_type": "code",
   "execution_count": 2,
   "id": "d6587d0f",
   "metadata": {},
   "outputs": [],
   "source": [
    "# Ejecutar esta celda\n",
    "# Cargar archivo sorteos.csv a la variable df.\n",
    "import pandas as pd\n",
    "df = pd.read_csv('sorteos.csv')"
   ]
  },
  {
   "cell_type": "markdown",
   "id": "525d9168",
   "metadata": {},
   "source": [
    "## 3. Filtrar datos y corregir.\n",
    "\n",
    "Como el objetivo es analizar los posibles grupos de Universidad Católica (UC), se filtran los datos para quedarse sólo con los equipos que comparten grupo con la UC para cada sorteo (id_sorteo). Esta celda se tarda en ejecutar, por lo que se recomienda saltarsela y cargar el archivo grupos_uc.csv en la celda siguiente."
   ]
  },
  {
   "cell_type": "code",
   "execution_count": 12,
   "id": "4480c85f",
   "metadata": {},
   "outputs": [],
   "source": [
    "# Saltarse esta celda\n",
    "\n",
    "# Los distintos grupos de la UC se guardarán en el dataframe df_uc\n",
    "#df_uc =pd.DataFrame()\n",
    "\n",
    "# Para cada id_sorteo quedarse sólo con los grupos de la UC.\n",
    "for ID in df['id_sorteo'].unique():\n",
    "    # Quedarse sólo con un sorteo\n",
    "    temp_df = df[df['id_sorteo'] == ID]\n",
    "    # Buscar en qué grupo se encuentra la UC\n",
    "    grupo_uc = temp_df[temp_df['Equipo'] == 'Universidad Católica']['Grupo'].to_string(index = False)\n",
    "    # Filtrar temp_df para quedarse sólo con el grupo de la UC\n",
    "    temp_df = temp_df[temp_df['Grupo'] == grupo_uc]\n",
    "    # Concatenar temp_df a df_uc\n",
    "    #df_uc = pd.concat([df_uc, temp_df], ignore_index = True)\n",
    "\n",
    "# Guardar dataframe en archivo grupos_uc.csv\n",
    "df_uc.to_csv('grupos_uc.csv', index = False)"
   ]
  },
  {
   "cell_type": "code",
   "execution_count": 4,
   "id": "34adfb08",
   "metadata": {},
   "outputs": [],
   "source": [
    "# Cargar grupos_uc.csv\n",
    "df_uc = pd.read_csv('grupos_uc.csv')"
   ]
  },
  {
   "cell_type": "markdown",
   "id": "8fac463c",
   "metadata": {},
   "source": [
    "A continuación, se corrige el país de los equipos provenientes de la fase previa, estos equipos son:\n",
    "- Olimpia de Paraguay.\n",
    "- The Strongest de Bolivia.\n",
    "- Estudiantes de La Plata de Argentina.\n",
    "- América de Brasil."
   ]
  },
  {
   "cell_type": "code",
   "execution_count": 5,
   "id": "d0d4bfde",
   "metadata": {},
   "outputs": [],
   "source": [
    "# Lista equipos contiene el nombre de los equipos provenientes de fase previa y lista países contiene sus respectivos países.\n",
    "equipos = ['Olimpia', 'The Strongest', 'Estudiantes L.P.', 'América M.G.']\n",
    "paises = ['Paraguay', 'Bolivia', 'Argentina', 'Brasil']\n",
    "\n",
    "# Modificar valores de columna Pais en dataframe.\n",
    "for i in range(len(equipos)):\n",
    "    df_uc.loc[df_uc['Equipo'] == equipos[i], 'Pais'] = paises[i]"
   ]
  },
  {
   "cell_type": "markdown",
   "id": "b46bcc82",
   "metadata": {},
   "source": [
    "## 4. Análisis de datos.\n",
    "\n",
    "### 4.1. Distribución grupo en que se ubica la UC. \n",
    "\n",
    "En primer lugar, se analiza en la distribución de grupos (letras) en que se ubica la UC. Se esperaría que esta distribución sea uniforme, pero debido a las restricciones de no poder tener dos equipos del mismo país (a menos que uno de ellos provenga de la fase previa) puede que este no sea al caso.\n",
    "\n",
    "# DECIR QUE SE CREÓ LA FUNCIÓN AGRUPAR"
   ]
  },
  {
   "cell_type": "code",
   "execution_count": 6,
   "id": "f963bcfe",
   "metadata": {},
   "outputs": [
    {
     "data": {
      "text/html": [
       "<div>\n",
       "<style scoped>\n",
       "    .dataframe tbody tr th:only-of-type {\n",
       "        vertical-align: middle;\n",
       "    }\n",
       "\n",
       "    .dataframe tbody tr th {\n",
       "        vertical-align: top;\n",
       "    }\n",
       "\n",
       "    .dataframe thead th {\n",
       "        text-align: right;\n",
       "    }\n",
       "</style>\n",
       "<table border=\"1\" class=\"dataframe\">\n",
       "  <thead>\n",
       "    <tr style=\"text-align: right;\">\n",
       "      <th></th>\n",
       "      <th>Sorteos (%)</th>\n",
       "    </tr>\n",
       "    <tr>\n",
       "      <th>Grupo</th>\n",
       "      <th></th>\n",
       "    </tr>\n",
       "  </thead>\n",
       "  <tbody>\n",
       "    <tr>\n",
       "      <th>A</th>\n",
       "      <td>13.95</td>\n",
       "    </tr>\n",
       "    <tr>\n",
       "      <th>B</th>\n",
       "      <td>12.95</td>\n",
       "    </tr>\n",
       "    <tr>\n",
       "      <th>C</th>\n",
       "      <td>12.36</td>\n",
       "    </tr>\n",
       "    <tr>\n",
       "      <th>D</th>\n",
       "      <td>12.19</td>\n",
       "    </tr>\n",
       "    <tr>\n",
       "      <th>E</th>\n",
       "      <td>12.02</td>\n",
       "    </tr>\n",
       "    <tr>\n",
       "      <th>F</th>\n",
       "      <td>12.04</td>\n",
       "    </tr>\n",
       "    <tr>\n",
       "      <th>G</th>\n",
       "      <td>11.49</td>\n",
       "    </tr>\n",
       "    <tr>\n",
       "      <th>H</th>\n",
       "      <td>13.00</td>\n",
       "    </tr>\n",
       "  </tbody>\n",
       "</table>\n",
       "</div>"
      ],
      "text/plain": [
       "       Sorteos (%)\n",
       "Grupo             \n",
       "A            13.95\n",
       "B            12.95\n",
       "C            12.36\n",
       "D            12.19\n",
       "E            12.02\n",
       "F            12.04\n",
       "G            11.49\n",
       "H            13.00"
      ]
     },
     "execution_count": 6,
     "metadata": {},
     "output_type": "execute_result"
    },
    {
     "data": {
      "image/png": "[encoded data removed]",
      "text/plain": [
       "<Figure size 432x288 with 1 Axes>"
      ]
     },
     "metadata": {
      "needs_background": "light"
     },
     "output_type": "display_data"
    }
   ],
   "source": [
    "# Se importa matplotlib.pyplot\n",
    "import matplotlib.pyplot as plt\n",
    "\n",
    "# Crear función de agrupar\n",
    "def agrupar(df, columna, ordenar = True, grafico = True):\n",
    "    agrupado = round(df.groupby(columna).count() / df.groupby(columna).count().sum() * 100, 2)\n",
    "    data = agrupado.iloc[:, 0]\n",
    "    output = pd.DataFrame(data = data).rename(columns = {data.name: 'Sorteos (%)'})\n",
    "    if ordenar:\n",
    "        output.sort_values(by = 'Sorteos (%)', ascending = False, inplace = True)\n",
    "    if grafico:\n",
    "        plt.bar(x = output.index, height = output['Sorteos (%)'], color = '#215394')\n",
    "        plt.ylabel('Porcentaje de sorteos')\n",
    "        if columna == 'Equipo':\n",
    "            plt.xticks(rotation = 60)\n",
    "    return output \n",
    "\n",
    "# Se ordena el dataframe por grupo para que en el gráfico aparezcan con orden \n",
    "df_uc = df_uc.sort_values(by='Grupo')\n",
    "\n",
    "agrupar(df_uc, 'Grupo', ordenar=False)"
   ]
  },
  {
   "cell_type": "markdown",
   "id": "9499ddc5",
   "metadata": {},
   "source": [
    "### DECIR QUE PASA.\n",
    "\n",
    "### 4.2. Distribución de rivales de cada bombo.\n",
    "\n",
    "Analizar distribución de rivales del bombo 1, del bombo 3 y del bombo 4. Evidentemente el bombo 2 no se analiza porque ese es el bombo de la UC."
   ]
  },
  {
   "cell_type": "code",
   "execution_count": 224,
   "id": "dcc21123",
   "metadata": {},
   "outputs": [],
   "source": [
    "# Filtrar equipos por número de bombo en que se ubicaban.\n",
    "B1 = df_uc[df_uc['Bombo'] == 1]\n",
    "B3 = df_uc[df_uc['Bombo'] == 3]\n",
    "B4 = df_uc[df_uc['Bombo'] == 4]"
   ]
  },
  {
   "cell_type": "markdown",
   "id": "3b106838",
   "metadata": {},
   "source": [
    "#### 4.2.1. Bombo 1."
   ]
  },
  {
   "cell_type": "code",
   "execution_count": 234,
   "id": "1abc2c38",
   "metadata": {},
   "outputs": [
    {
     "data": {
      "text/html": [
       "<div>\n",
       "<style scoped>\n",
       "    .dataframe tbody tr th:only-of-type {\n",
       "        vertical-align: middle;\n",
       "    }\n",
       "\n",
       "    .dataframe tbody tr th {\n",
       "        vertical-align: top;\n",
       "    }\n",
       "\n",
       "    .dataframe thead th {\n",
       "        text-align: right;\n",
       "    }\n",
       "</style>\n",
       "<table border=\"1\" class=\"dataframe\">\n",
       "  <thead>\n",
       "    <tr style=\"text-align: right;\">\n",
       "      <th></th>\n",
       "      <th>Sorteos (%)</th>\n",
       "    </tr>\n",
       "    <tr>\n",
       "      <th>Equipo</th>\n",
       "      <th></th>\n",
       "    </tr>\n",
       "  </thead>\n",
       "  <tbody>\n",
       "    <tr>\n",
       "      <th>Athletico Paranaense</th>\n",
       "      <td>14.08</td>\n",
       "    </tr>\n",
       "    <tr>\n",
       "      <th>Palmeiras</th>\n",
       "      <td>13.95</td>\n",
       "    </tr>\n",
       "    <tr>\n",
       "      <th>Atlético Mineiro</th>\n",
       "      <td>13.39</td>\n",
       "    </tr>\n",
       "    <tr>\n",
       "      <th>Flamengo</th>\n",
       "      <td>13.37</td>\n",
       "    </tr>\n",
       "    <tr>\n",
       "      <th>River Plate</th>\n",
       "      <td>12.73</td>\n",
       "    </tr>\n",
       "    <tr>\n",
       "      <th>Boca Juniors</th>\n",
       "      <td>12.38</td>\n",
       "    </tr>\n",
       "    <tr>\n",
       "      <th>Peñarol</th>\n",
       "      <td>10.13</td>\n",
       "    </tr>\n",
       "    <tr>\n",
       "      <th>Nacional</th>\n",
       "      <td>9.97</td>\n",
       "    </tr>\n",
       "  </tbody>\n",
       "</table>\n",
       "</div>"
      ],
      "text/plain": [
       "                      Sorteos (%)\n",
       "Equipo                           \n",
       "Athletico Paranaense        14.08\n",
       "Palmeiras                   13.95\n",
       "Atlético Mineiro            13.39\n",
       "Flamengo                    13.37\n",
       "River Plate                 12.73\n",
       "Boca Juniors                12.38\n",
       "Peñarol                     10.13\n",
       "Nacional                     9.97"
      ]
     },
     "execution_count": 234,
     "metadata": {},
     "output_type": "execute_result"
    },
    {
     "data": {
      "image/png": "[encoded data removed]",
      "text/plain": [
       "<Figure size 432x288 with 1 Axes>"
      ]
     },
     "metadata": {
      "needs_background": "light"
     },
     "output_type": "display_data"
    }
   ],
   "source": [
    "agrupar(B1, 'Equipo')"
   ]
  },
  {
   "cell_type": "code",
   "execution_count": 235,
   "id": "29516c1d",
   "metadata": {},
   "outputs": [
    {
     "data": {
      "text/html": [
       "<div>\n",
       "<style scoped>\n",
       "    .dataframe tbody tr th:only-of-type {\n",
       "        vertical-align: middle;\n",
       "    }\n",
       "\n",
       "    .dataframe tbody tr th {\n",
       "        vertical-align: top;\n",
       "    }\n",
       "\n",
       "    .dataframe thead th {\n",
       "        text-align: right;\n",
       "    }\n",
       "</style>\n",
       "<table border=\"1\" class=\"dataframe\">\n",
       "  <thead>\n",
       "    <tr style=\"text-align: right;\">\n",
       "      <th></th>\n",
       "      <th>Sorteos (%)</th>\n",
       "    </tr>\n",
       "    <tr>\n",
       "      <th>Pais</th>\n",
       "      <th></th>\n",
       "    </tr>\n",
       "  </thead>\n",
       "  <tbody>\n",
       "    <tr>\n",
       "      <th>Brasil</th>\n",
       "      <td>54.79</td>\n",
       "    </tr>\n",
       "    <tr>\n",
       "      <th>Argentina</th>\n",
       "      <td>25.12</td>\n",
       "    </tr>\n",
       "    <tr>\n",
       "      <th>Uruguay</th>\n",
       "      <td>20.09</td>\n",
       "    </tr>\n",
       "  </tbody>\n",
       "</table>\n",
       "</div>"
      ],
      "text/plain": [
       "           Sorteos (%)\n",
       "Pais                  \n",
       "Brasil           54.79\n",
       "Argentina        25.12\n",
       "Uruguay          20.09"
      ]
     },
     "execution_count": 235,
     "metadata": {},
     "output_type": "execute_result"
    },
    {
     "data": {
      "image/png": "[encoded data removed]",
      "text/plain": [
       "<Figure size 432x288 with 1 Axes>"
      ]
     },
     "metadata": {
      "needs_background": "light"
     },
     "output_type": "display_data"
    }
   ],
   "source": [
    "agrupar(B1, 'Pais')"
   ]
  },
  {
   "cell_type": "markdown",
   "id": "e54790e5",
   "metadata": {},
   "source": [
    "#### 4.2.2. Bombo 3."
   ]
  },
  {
   "cell_type": "code",
   "execution_count": 236,
   "id": "ac966d05",
   "metadata": {},
   "outputs": [
    {
     "data": {
      "text/html": [
       "<div>\n",
       "<style scoped>\n",
       "    .dataframe tbody tr th:only-of-type {\n",
       "        vertical-align: middle;\n",
       "    }\n",
       "\n",
       "    .dataframe tbody tr th {\n",
       "        vertical-align: top;\n",
       "    }\n",
       "\n",
       "    .dataframe thead th {\n",
       "        text-align: right;\n",
       "    }\n",
       "</style>\n",
       "<table border=\"1\" class=\"dataframe\">\n",
       "  <thead>\n",
       "    <tr style=\"text-align: right;\">\n",
       "      <th></th>\n",
       "      <th>Sorteos (%)</th>\n",
       "    </tr>\n",
       "    <tr>\n",
       "      <th>Equipo</th>\n",
       "      <th></th>\n",
       "    </tr>\n",
       "  </thead>\n",
       "  <tbody>\n",
       "    <tr>\n",
       "      <th>Bragantino</th>\n",
       "      <td>15.42</td>\n",
       "    </tr>\n",
       "    <tr>\n",
       "      <th>Colón</th>\n",
       "      <td>14.87</td>\n",
       "    </tr>\n",
       "    <tr>\n",
       "      <th>Deportivo Táchira</th>\n",
       "      <td>11.77</td>\n",
       "    </tr>\n",
       "    <tr>\n",
       "      <th>Sporting Cristal</th>\n",
       "      <td>11.74</td>\n",
       "    </tr>\n",
       "    <tr>\n",
       "      <th>Alianza Lima</th>\n",
       "      <td>11.63</td>\n",
       "    </tr>\n",
       "    <tr>\n",
       "      <th>Deportes Tolima</th>\n",
       "      <td>11.62</td>\n",
       "    </tr>\n",
       "    <tr>\n",
       "      <th>Caracas</th>\n",
       "      <td>11.49</td>\n",
       "    </tr>\n",
       "    <tr>\n",
       "      <th>Deportivo Cali</th>\n",
       "      <td>11.46</td>\n",
       "    </tr>\n",
       "  </tbody>\n",
       "</table>\n",
       "</div>"
      ],
      "text/plain": [
       "                   Sorteos (%)\n",
       "Equipo                        \n",
       "Bragantino               15.42\n",
       "Colón                    14.87\n",
       "Deportivo Táchira        11.77\n",
       "Sporting Cristal         11.74\n",
       "Alianza Lima             11.63\n",
       "Deportes Tolima          11.62\n",
       "Caracas                  11.49\n",
       "Deportivo Cali           11.46"
      ]
     },
     "execution_count": 236,
     "metadata": {},
     "output_type": "execute_result"
    },
    {
     "data": {
      "image/png": "[encoded data removed]",
      "text/plain": [
       "<Figure size 432x288 with 1 Axes>"
      ]
     },
     "metadata": {
      "needs_background": "light"
     },
     "output_type": "display_data"
    }
   ],
   "source": [
    "agrupar(B3, 'Equipo')"
   ]
  },
  {
   "cell_type": "code",
   "execution_count": 237,
   "id": "d0b5bb8e",
   "metadata": {},
   "outputs": [
    {
     "data": {
      "text/html": [
       "<div>\n",
       "<style scoped>\n",
       "    .dataframe tbody tr th:only-of-type {\n",
       "        vertical-align: middle;\n",
       "    }\n",
       "\n",
       "    .dataframe tbody tr th {\n",
       "        vertical-align: top;\n",
       "    }\n",
       "\n",
       "    .dataframe thead th {\n",
       "        text-align: right;\n",
       "    }\n",
       "</style>\n",
       "<table border=\"1\" class=\"dataframe\">\n",
       "  <thead>\n",
       "    <tr style=\"text-align: right;\">\n",
       "      <th></th>\n",
       "      <th>Sorteos (%)</th>\n",
       "    </tr>\n",
       "    <tr>\n",
       "      <th>Pais</th>\n",
       "      <th></th>\n",
       "    </tr>\n",
       "  </thead>\n",
       "  <tbody>\n",
       "    <tr>\n",
       "      <th>Perú</th>\n",
       "      <td>23.37</td>\n",
       "    </tr>\n",
       "    <tr>\n",
       "      <th>Venezuela</th>\n",
       "      <td>23.26</td>\n",
       "    </tr>\n",
       "    <tr>\n",
       "      <th>Colombia</th>\n",
       "      <td>23.08</td>\n",
       "    </tr>\n",
       "    <tr>\n",
       "      <th>Brasil</th>\n",
       "      <td>15.42</td>\n",
       "    </tr>\n",
       "    <tr>\n",
       "      <th>Argentina</th>\n",
       "      <td>14.87</td>\n",
       "    </tr>\n",
       "  </tbody>\n",
       "</table>\n",
       "</div>"
      ],
      "text/plain": [
       "           Sorteos (%)\n",
       "Pais                  \n",
       "Perú             23.37\n",
       "Venezuela        23.26\n",
       "Colombia         23.08\n",
       "Brasil           15.42\n",
       "Argentina        14.87"
      ]
     },
     "execution_count": 237,
     "metadata": {},
     "output_type": "execute_result"
    },
    {
     "data": {
      "image/png": "[encoded data removed]",
      "text/plain": [
       "<Figure size 432x288 with 1 Axes>"
      ]
     },
     "metadata": {
      "needs_background": "light"
     },
     "output_type": "display_data"
    }
   ],
   "source": [
    "agrupar(B3, 'Pais')"
   ]
  },
  {
   "cell_type": "markdown",
   "id": "90f7f0c7",
   "metadata": {},
   "source": [
    "#### 4.2.3. Bombo 4."
   ]
  },
  {
   "cell_type": "code",
   "execution_count": 238,
   "id": "6d8e1b76",
   "metadata": {},
   "outputs": [
    {
     "data": {
      "text/html": [
       "<div>\n",
       "<style scoped>\n",
       "    .dataframe tbody tr th:only-of-type {\n",
       "        vertical-align: middle;\n",
       "    }\n",
       "\n",
       "    .dataframe tbody tr th {\n",
       "        vertical-align: top;\n",
       "    }\n",
       "\n",
       "    .dataframe thead th {\n",
       "        text-align: right;\n",
       "    }\n",
       "</style>\n",
       "<table border=\"1\" class=\"dataframe\">\n",
       "  <thead>\n",
       "    <tr style=\"text-align: right;\">\n",
       "      <th></th>\n",
       "      <th>Sorteos (%)</th>\n",
       "    </tr>\n",
       "    <tr>\n",
       "      <th>Equipo</th>\n",
       "      <th></th>\n",
       "    </tr>\n",
       "  </thead>\n",
       "  <tbody>\n",
       "    <tr>\n",
       "      <th>Fortaleza</th>\n",
       "      <td>14.74</td>\n",
       "    </tr>\n",
       "    <tr>\n",
       "      <th>Talleres</th>\n",
       "      <td>14.23</td>\n",
       "    </tr>\n",
       "    <tr>\n",
       "      <th>Always Ready</th>\n",
       "      <td>12.38</td>\n",
       "    </tr>\n",
       "    <tr>\n",
       "      <th>América M.G.</th>\n",
       "      <td>12.29</td>\n",
       "    </tr>\n",
       "    <tr>\n",
       "      <th>Estudiantes L.P.</th>\n",
       "      <td>11.69</td>\n",
       "    </tr>\n",
       "    <tr>\n",
       "      <th>The Strongest</th>\n",
       "      <td>11.62</td>\n",
       "    </tr>\n",
       "    <tr>\n",
       "      <th>Olimpia</th>\n",
       "      <td>11.60</td>\n",
       "    </tr>\n",
       "    <tr>\n",
       "      <th>Independiente Petrolero</th>\n",
       "      <td>11.44</td>\n",
       "    </tr>\n",
       "  </tbody>\n",
       "</table>\n",
       "</div>"
      ],
      "text/plain": [
       "                         Sorteos (%)\n",
       "Equipo                              \n",
       "Fortaleza                      14.74\n",
       "Talleres                       14.23\n",
       "Always Ready                   12.38\n",
       "América M.G.                   12.29\n",
       "Estudiantes L.P.               11.69\n",
       "The Strongest                  11.62\n",
       "Olimpia                        11.60\n",
       "Independiente Petrolero        11.44"
      ]
     },
     "execution_count": 238,
     "metadata": {},
     "output_type": "execute_result"
    },
    {
     "data": {
      "image/png": "[encoded data removed]",
      "text/plain": [
       "<Figure size 432x288 with 1 Axes>"
      ]
     },
     "metadata": {
      "needs_background": "light"
     },
     "output_type": "display_data"
    }
   ],
   "source": [
    "agrupar(B4, 'Equipo')"
   ]
  },
  {
   "cell_type": "code",
   "execution_count": 239,
   "id": "85741fa6",
   "metadata": {},
   "outputs": [
    {
     "data": {
      "text/html": [
       "<div>\n",
       "<style scoped>\n",
       "    .dataframe tbody tr th:only-of-type {\n",
       "        vertical-align: middle;\n",
       "    }\n",
       "\n",
       "    .dataframe tbody tr th {\n",
       "        vertical-align: top;\n",
       "    }\n",
       "\n",
       "    .dataframe thead th {\n",
       "        text-align: right;\n",
       "    }\n",
       "</style>\n",
       "<table border=\"1\" class=\"dataframe\">\n",
       "  <thead>\n",
       "    <tr style=\"text-align: right;\">\n",
       "      <th></th>\n",
       "      <th>Sorteos (%)</th>\n",
       "    </tr>\n",
       "    <tr>\n",
       "      <th>Pais</th>\n",
       "      <th></th>\n",
       "    </tr>\n",
       "  </thead>\n",
       "  <tbody>\n",
       "    <tr>\n",
       "      <th>Bolivia</th>\n",
       "      <td>35.44</td>\n",
       "    </tr>\n",
       "    <tr>\n",
       "      <th>Brasil</th>\n",
       "      <td>27.04</td>\n",
       "    </tr>\n",
       "    <tr>\n",
       "      <th>Argentina</th>\n",
       "      <td>25.92</td>\n",
       "    </tr>\n",
       "    <tr>\n",
       "      <th>Paraguay</th>\n",
       "      <td>11.60</td>\n",
       "    </tr>\n",
       "  </tbody>\n",
       "</table>\n",
       "</div>"
      ],
      "text/plain": [
       "           Sorteos (%)\n",
       "Pais                  \n",
       "Bolivia          35.44\n",
       "Brasil           27.04\n",
       "Argentina        25.92\n",
       "Paraguay         11.60"
      ]
     },
     "execution_count": 239,
     "metadata": {},
     "output_type": "execute_result"
    },
    {
     "data": {
      "image/png": "[encoded data removed]",
      "text/plain": [
       "<Figure size 432x288 with 1 Axes>"
      ]
     },
     "metadata": {
      "needs_background": "light"
     },
     "output_type": "display_data"
    }
   ],
   "source": [
    "agrupar(B4, 'Pais')"
   ]
  },
  {
   "cell_type": "markdown",
   "id": "2fb6d10e",
   "metadata": {},
   "source": [
    "#### 4.2.4. Análisis condicional.\n",
    "\n",
    "Distribución de rivales de los bombos 3 y 4 dados rivales del bombo 1.\n"
   ]
  },
  {
   "cell_type": "code",
   "execution_count": 240,
   "id": "ee0da49d",
   "metadata": {},
   "outputs": [],
   "source": [
    "B1_brasil = B1[B1['Pais'] == 'Brasil']\n",
    "B1_argentina = B1[B1['Pais'] == 'Argentina']\n",
    "B1_uruguay = B1[B1['Pais'] == 'Uruguay']"
   ]
  },
  {
   "cell_type": "markdown",
   "id": "be031293",
   "metadata": {},
   "source": [
    "**Si el rival del bombo 1 es brasileño:**"
   ]
  },
  {
   "cell_type": "code",
   "execution_count": 241,
   "id": "ce1d7927",
   "metadata": {},
   "outputs": [],
   "source": [
    "# Buscar sorteos con equipos brasileños en B1 (por id).\n",
    "temp_df = df_uc[df_uc['id_sorteo'].isin(B1_brasil['id_sorteo'].to_list())]\n",
    "\n",
    "# Filtrar por bombos\n",
    "temp_B3 = temp_df[temp_df['Bombo'] == 3]\n",
    "temp_B4 = temp_df[temp_df['Bombo'] == 4]"
   ]
  },
  {
   "cell_type": "markdown",
   "id": "ea744cf9",
   "metadata": {},
   "source": [
    "Bombo 3:"
   ]
  },
  {
   "cell_type": "code",
   "execution_count": 242,
   "id": "195dd818",
   "metadata": {},
   "outputs": [
    {
     "data": {
      "text/html": [
       "<div>\n",
       "<style scoped>\n",
       "    .dataframe tbody tr th:only-of-type {\n",
       "        vertical-align: middle;\n",
       "    }\n",
       "\n",
       "    .dataframe tbody tr th {\n",
       "        vertical-align: top;\n",
       "    }\n",
       "\n",
       "    .dataframe thead th {\n",
       "        text-align: right;\n",
       "    }\n",
       "</style>\n",
       "<table border=\"1\" class=\"dataframe\">\n",
       "  <thead>\n",
       "    <tr style=\"text-align: right;\">\n",
       "      <th></th>\n",
       "      <th>Sorteos (%)</th>\n",
       "    </tr>\n",
       "    <tr>\n",
       "      <th>Equipo</th>\n",
       "      <th></th>\n",
       "    </tr>\n",
       "  </thead>\n",
       "  <tbody>\n",
       "    <tr>\n",
       "      <th>Colón</th>\n",
       "      <td>20.92</td>\n",
       "    </tr>\n",
       "    <tr>\n",
       "      <th>Deportivo Táchira</th>\n",
       "      <td>13.60</td>\n",
       "    </tr>\n",
       "    <tr>\n",
       "      <th>Alianza Lima</th>\n",
       "      <td>13.48</td>\n",
       "    </tr>\n",
       "    <tr>\n",
       "      <th>Deportivo Cali</th>\n",
       "      <td>13.35</td>\n",
       "    </tr>\n",
       "    <tr>\n",
       "      <th>Sporting Cristal</th>\n",
       "      <td>12.94</td>\n",
       "    </tr>\n",
       "    <tr>\n",
       "      <th>Caracas</th>\n",
       "      <td>12.88</td>\n",
       "    </tr>\n",
       "    <tr>\n",
       "      <th>Deportes Tolima</th>\n",
       "      <td>12.82</td>\n",
       "    </tr>\n",
       "  </tbody>\n",
       "</table>\n",
       "</div>"
      ],
      "text/plain": [
       "                   Sorteos (%)\n",
       "Equipo                        \n",
       "Colón                    20.92\n",
       "Deportivo Táchira        13.60\n",
       "Alianza Lima             13.48\n",
       "Deportivo Cali           13.35\n",
       "Sporting Cristal         12.94\n",
       "Caracas                  12.88\n",
       "Deportes Tolima          12.82"
      ]
     },
     "execution_count": 242,
     "metadata": {},
     "output_type": "execute_result"
    },
    {
     "data": {
      "image/png": "[encoded data removed]",
      "text/plain": [
       "<Figure size 432x288 with 1 Axes>"
      ]
     },
     "metadata": {
      "needs_background": "light"
     },
     "output_type": "display_data"
    }
   ],
   "source": [
    "agrupar(temp_B3, 'Equipo')"
   ]
  },
  {
   "cell_type": "code",
   "execution_count": 243,
   "id": "2c5f84f4",
   "metadata": {},
   "outputs": [
    {
     "data": {
      "text/html": [
       "<div>\n",
       "<style scoped>\n",
       "    .dataframe tbody tr th:only-of-type {\n",
       "        vertical-align: middle;\n",
       "    }\n",
       "\n",
       "    .dataframe tbody tr th {\n",
       "        vertical-align: top;\n",
       "    }\n",
       "\n",
       "    .dataframe thead th {\n",
       "        text-align: right;\n",
       "    }\n",
       "</style>\n",
       "<table border=\"1\" class=\"dataframe\">\n",
       "  <thead>\n",
       "    <tr style=\"text-align: right;\">\n",
       "      <th></th>\n",
       "      <th>Sorteos (%)</th>\n",
       "    </tr>\n",
       "    <tr>\n",
       "      <th>Pais</th>\n",
       "      <th></th>\n",
       "    </tr>\n",
       "  </thead>\n",
       "  <tbody>\n",
       "    <tr>\n",
       "      <th>Venezuela</th>\n",
       "      <td>26.49</td>\n",
       "    </tr>\n",
       "    <tr>\n",
       "      <th>Perú</th>\n",
       "      <td>26.43</td>\n",
       "    </tr>\n",
       "    <tr>\n",
       "      <th>Colombia</th>\n",
       "      <td>26.17</td>\n",
       "    </tr>\n",
       "    <tr>\n",
       "      <th>Argentina</th>\n",
       "      <td>20.92</td>\n",
       "    </tr>\n",
       "  </tbody>\n",
       "</table>\n",
       "</div>"
      ],
      "text/plain": [
       "           Sorteos (%)\n",
       "Pais                  \n",
       "Venezuela        26.49\n",
       "Perú             26.43\n",
       "Colombia         26.17\n",
       "Argentina        20.92"
      ]
     },
     "execution_count": 243,
     "metadata": {},
     "output_type": "execute_result"
    },
    {
     "data": {
      "image/png": "[encoded data removed]",
      "text/plain": [
       "<Figure size 432x288 with 1 Axes>"
      ]
     },
     "metadata": {
      "needs_background": "light"
     },
     "output_type": "display_data"
    }
   ],
   "source": [
    "agrupar(temp_B3, 'Pais')"
   ]
  },
  {
   "cell_type": "markdown",
   "id": "bb6d69b0",
   "metadata": {},
   "source": [
    "Bombo 4:"
   ]
  },
  {
   "cell_type": "code",
   "execution_count": 244,
   "id": "7eff0bfe",
   "metadata": {},
   "outputs": [
    {
     "data": {
      "text/html": [
       "<div>\n",
       "<style scoped>\n",
       "    .dataframe tbody tr th:only-of-type {\n",
       "        vertical-align: middle;\n",
       "    }\n",
       "\n",
       "    .dataframe tbody tr th {\n",
       "        vertical-align: top;\n",
       "    }\n",
       "\n",
       "    .dataframe thead th {\n",
       "        text-align: right;\n",
       "    }\n",
       "</style>\n",
       "<table border=\"1\" class=\"dataframe\">\n",
       "  <thead>\n",
       "    <tr style=\"text-align: right;\">\n",
       "      <th></th>\n",
       "      <th>Sorteos (%)</th>\n",
       "    </tr>\n",
       "    <tr>\n",
       "      <th>Equipo</th>\n",
       "      <th></th>\n",
       "    </tr>\n",
       "  </thead>\n",
       "  <tbody>\n",
       "    <tr>\n",
       "      <th>Talleres</th>\n",
       "      <td>19.89</td>\n",
       "    </tr>\n",
       "    <tr>\n",
       "      <th>Always Ready</th>\n",
       "      <td>14.45</td>\n",
       "    </tr>\n",
       "    <tr>\n",
       "      <th>América M.G.</th>\n",
       "      <td>13.41</td>\n",
       "    </tr>\n",
       "    <tr>\n",
       "      <th>Independiente Petrolero</th>\n",
       "      <td>13.23</td>\n",
       "    </tr>\n",
       "    <tr>\n",
       "      <th>Estudiantes L.P.</th>\n",
       "      <td>13.20</td>\n",
       "    </tr>\n",
       "    <tr>\n",
       "      <th>Olimpia</th>\n",
       "      <td>13.12</td>\n",
       "    </tr>\n",
       "    <tr>\n",
       "      <th>The Strongest</th>\n",
       "      <td>12.70</td>\n",
       "    </tr>\n",
       "  </tbody>\n",
       "</table>\n",
       "</div>"
      ],
      "text/plain": [
       "                         Sorteos (%)\n",
       "Equipo                              \n",
       "Talleres                       19.89\n",
       "Always Ready                   14.45\n",
       "América M.G.                   13.41\n",
       "Independiente Petrolero        13.23\n",
       "Estudiantes L.P.               13.20\n",
       "Olimpia                        13.12\n",
       "The Strongest                  12.70"
      ]
     },
     "execution_count": 244,
     "metadata": {},
     "output_type": "execute_result"
    },
    {
     "data": {
      "image/png": "[encoded data removed]",
      "text/plain": [
       "<Figure size 432x288 with 1 Axes>"
      ]
     },
     "metadata": {
      "needs_background": "light"
     },
     "output_type": "display_data"
    }
   ],
   "source": [
    "agrupar(temp_B4, 'Equipo')"
   ]
  },
  {
   "cell_type": "code",
   "execution_count": 245,
   "id": "c40183d4",
   "metadata": {},
   "outputs": [
    {
     "data": {
      "text/html": [
       "<div>\n",
       "<style scoped>\n",
       "    .dataframe tbody tr th:only-of-type {\n",
       "        vertical-align: middle;\n",
       "    }\n",
       "\n",
       "    .dataframe tbody tr th {\n",
       "        vertical-align: top;\n",
       "    }\n",
       "\n",
       "    .dataframe thead th {\n",
       "        text-align: right;\n",
       "    }\n",
       "</style>\n",
       "<table border=\"1\" class=\"dataframe\">\n",
       "  <thead>\n",
       "    <tr style=\"text-align: right;\">\n",
       "      <th></th>\n",
       "      <th>Sorteos (%)</th>\n",
       "    </tr>\n",
       "    <tr>\n",
       "      <th>Pais</th>\n",
       "      <th></th>\n",
       "    </tr>\n",
       "  </thead>\n",
       "  <tbody>\n",
       "    <tr>\n",
       "      <th>Bolivia</th>\n",
       "      <td>40.38</td>\n",
       "    </tr>\n",
       "    <tr>\n",
       "      <th>Argentina</th>\n",
       "      <td>33.09</td>\n",
       "    </tr>\n",
       "    <tr>\n",
       "      <th>Brasil</th>\n",
       "      <td>13.41</td>\n",
       "    </tr>\n",
       "    <tr>\n",
       "      <th>Paraguay</th>\n",
       "      <td>13.12</td>\n",
       "    </tr>\n",
       "  </tbody>\n",
       "</table>\n",
       "</div>"
      ],
      "text/plain": [
       "           Sorteos (%)\n",
       "Pais                  \n",
       "Bolivia          40.38\n",
       "Argentina        33.09\n",
       "Brasil           13.41\n",
       "Paraguay         13.12"
      ]
     },
     "execution_count": 245,
     "metadata": {},
     "output_type": "execute_result"
    },
    {
     "data": {
      "image/png": "[encoded data removed]",
      "text/plain": [
       "<Figure size 432x288 with 1 Axes>"
      ]
     },
     "metadata": {
      "needs_background": "light"
     },
     "output_type": "display_data"
    }
   ],
   "source": [
    "agrupar(temp_B4, 'Pais')"
   ]
  },
  {
   "cell_type": "markdown",
   "id": "f35d4cdc",
   "metadata": {},
   "source": [
    "**Si el rival del bombo 1 es argentino:**"
   ]
  },
  {
   "cell_type": "code",
   "execution_count": 246,
   "id": "6cb18434",
   "metadata": {},
   "outputs": [],
   "source": [
    "# Buscar sorteos con equipos argentinos en B1 (por id).\n",
    "temp_df = df_uc[df_uc['id_sorteo'].isin(B1_argentina['id_sorteo'].to_list())]\n",
    "\n",
    "# Filtrar por bombos\n",
    "temp_B3 = temp_df[temp_df['Bombo'] == 3]\n",
    "temp_B4 = temp_df[temp_df['Bombo'] == 4]"
   ]
  },
  {
   "cell_type": "markdown",
   "id": "bf9109bc",
   "metadata": {},
   "source": [
    "Bombo 3:"
   ]
  },
  {
   "cell_type": "code",
   "execution_count": 247,
   "id": "631a812e",
   "metadata": {},
   "outputs": [
    {
     "data": {
      "text/html": [
       "<div>\n",
       "<style scoped>\n",
       "    .dataframe tbody tr th:only-of-type {\n",
       "        vertical-align: middle;\n",
       "    }\n",
       "\n",
       "    .dataframe tbody tr th {\n",
       "        vertical-align: top;\n",
       "    }\n",
       "\n",
       "    .dataframe thead th {\n",
       "        text-align: right;\n",
       "    }\n",
       "</style>\n",
       "<table border=\"1\" class=\"dataframe\">\n",
       "  <thead>\n",
       "    <tr style=\"text-align: right;\">\n",
       "      <th></th>\n",
       "      <th>Sorteos (%)</th>\n",
       "    </tr>\n",
       "    <tr>\n",
       "      <th>Equipo</th>\n",
       "      <th></th>\n",
       "    </tr>\n",
       "  </thead>\n",
       "  <tbody>\n",
       "    <tr>\n",
       "      <th>Bragantino</th>\n",
       "      <td>35.78</td>\n",
       "    </tr>\n",
       "    <tr>\n",
       "      <th>Deportes Tolima</th>\n",
       "      <td>11.33</td>\n",
       "    </tr>\n",
       "    <tr>\n",
       "      <th>Sporting Cristal</th>\n",
       "      <td>11.06</td>\n",
       "    </tr>\n",
       "    <tr>\n",
       "      <th>Caracas</th>\n",
       "      <td>10.87</td>\n",
       "    </tr>\n",
       "    <tr>\n",
       "      <th>Deportivo Táchira</th>\n",
       "      <td>10.41</td>\n",
       "    </tr>\n",
       "    <tr>\n",
       "      <th>Deportivo Cali</th>\n",
       "      <td>10.31</td>\n",
       "    </tr>\n",
       "    <tr>\n",
       "      <th>Alianza Lima</th>\n",
       "      <td>10.24</td>\n",
       "    </tr>\n",
       "  </tbody>\n",
       "</table>\n",
       "</div>"
      ],
      "text/plain": [
       "                   Sorteos (%)\n",
       "Equipo                        \n",
       "Bragantino               35.78\n",
       "Deportes Tolima          11.33\n",
       "Sporting Cristal         11.06\n",
       "Caracas                  10.87\n",
       "Deportivo Táchira        10.41\n",
       "Deportivo Cali           10.31\n",
       "Alianza Lima             10.24"
      ]
     },
     "execution_count": 247,
     "metadata": {},
     "output_type": "execute_result"
    },
    {
     "data": {
      "image/png": "[encoded data removed]",
      "text/plain": [
       "<Figure size 432x288 with 1 Axes>"
      ]
     },
     "metadata": {
      "needs_background": "light"
     },
     "output_type": "display_data"
    }
   ],
   "source": [
    "agrupar(temp_B3, 'Equipo')"
   ]
  },
  {
   "cell_type": "code",
   "execution_count": 248,
   "id": "84e08173",
   "metadata": {},
   "outputs": [
    {
     "data": {
      "text/html": [
       "<div>\n",
       "<style scoped>\n",
       "    .dataframe tbody tr th:only-of-type {\n",
       "        vertical-align: middle;\n",
       "    }\n",
       "\n",
       "    .dataframe tbody tr th {\n",
       "        vertical-align: top;\n",
       "    }\n",
       "\n",
       "    .dataframe thead th {\n",
       "        text-align: right;\n",
       "    }\n",
       "</style>\n",
       "<table border=\"1\" class=\"dataframe\">\n",
       "  <thead>\n",
       "    <tr style=\"text-align: right;\">\n",
       "      <th></th>\n",
       "      <th>Sorteos (%)</th>\n",
       "    </tr>\n",
       "    <tr>\n",
       "      <th>Pais</th>\n",
       "      <th></th>\n",
       "    </tr>\n",
       "  </thead>\n",
       "  <tbody>\n",
       "    <tr>\n",
       "      <th>Brasil</th>\n",
       "      <td>35.78</td>\n",
       "    </tr>\n",
       "    <tr>\n",
       "      <th>Colombia</th>\n",
       "      <td>21.63</td>\n",
       "    </tr>\n",
       "    <tr>\n",
       "      <th>Perú</th>\n",
       "      <td>21.31</td>\n",
       "    </tr>\n",
       "    <tr>\n",
       "      <th>Venezuela</th>\n",
       "      <td>21.27</td>\n",
       "    </tr>\n",
       "  </tbody>\n",
       "</table>\n",
       "</div>"
      ],
      "text/plain": [
       "           Sorteos (%)\n",
       "Pais                  \n",
       "Brasil           35.78\n",
       "Colombia         21.63\n",
       "Perú             21.31\n",
       "Venezuela        21.27"
      ]
     },
     "execution_count": 248,
     "metadata": {},
     "output_type": "execute_result"
    },
    {
     "data": {
      "image/png": "[encoded data removed]",
      "text/plain": [
       "<Figure size 432x288 with 1 Axes>"
      ]
     },
     "metadata": {
      "needs_background": "light"
     },
     "output_type": "display_data"
    }
   ],
   "source": [
    "agrupar(temp_B3, 'Pais')"
   ]
  },
  {
   "cell_type": "markdown",
   "id": "7d148044",
   "metadata": {},
   "source": [
    "Bombo 4:"
   ]
  },
  {
   "cell_type": "code",
   "execution_count": 249,
   "id": "3375caf6",
   "metadata": {},
   "outputs": [
    {
     "data": {
      "text/html": [
       "<div>\n",
       "<style scoped>\n",
       "    .dataframe tbody tr th:only-of-type {\n",
       "        vertical-align: middle;\n",
       "    }\n",
       "\n",
       "    .dataframe tbody tr th {\n",
       "        vertical-align: top;\n",
       "    }\n",
       "\n",
       "    .dataframe thead th {\n",
       "        text-align: right;\n",
       "    }\n",
       "</style>\n",
       "<table border=\"1\" class=\"dataframe\">\n",
       "  <thead>\n",
       "    <tr style=\"text-align: right;\">\n",
       "      <th></th>\n",
       "      <th>Sorteos (%)</th>\n",
       "    </tr>\n",
       "    <tr>\n",
       "      <th>Equipo</th>\n",
       "      <th></th>\n",
       "    </tr>\n",
       "  </thead>\n",
       "  <tbody>\n",
       "    <tr>\n",
       "      <th>Fortaleza</th>\n",
       "      <td>33.26</td>\n",
       "    </tr>\n",
       "    <tr>\n",
       "      <th>América M.G.</th>\n",
       "      <td>11.98</td>\n",
       "    </tr>\n",
       "    <tr>\n",
       "      <th>Estudiantes L.P.</th>\n",
       "      <td>11.56</td>\n",
       "    </tr>\n",
       "    <tr>\n",
       "      <th>The Strongest</th>\n",
       "      <td>11.49</td>\n",
       "    </tr>\n",
       "    <tr>\n",
       "      <th>Olimpia</th>\n",
       "      <td>10.83</td>\n",
       "    </tr>\n",
       "    <tr>\n",
       "      <th>Always Ready</th>\n",
       "      <td>10.54</td>\n",
       "    </tr>\n",
       "    <tr>\n",
       "      <th>Independiente Petrolero</th>\n",
       "      <td>10.34</td>\n",
       "    </tr>\n",
       "  </tbody>\n",
       "</table>\n",
       "</div>"
      ],
      "text/plain": [
       "                         Sorteos (%)\n",
       "Equipo                              \n",
       "Fortaleza                      33.26\n",
       "América M.G.                   11.98\n",
       "Estudiantes L.P.               11.56\n",
       "The Strongest                  11.49\n",
       "Olimpia                        10.83\n",
       "Always Ready                   10.54\n",
       "Independiente Petrolero        10.34"
      ]
     },
     "execution_count": 249,
     "metadata": {},
     "output_type": "execute_result"
    },
    {
     "data": {
      "image/png": "[encoded data removed]",
      "text/plain": [
       "<Figure size 432x288 with 1 Axes>"
      ]
     },
     "metadata": {
      "needs_background": "light"
     },
     "output_type": "display_data"
    }
   ],
   "source": [
    "agrupar(temp_B4, 'Equipo')"
   ]
  },
  {
   "cell_type": "code",
   "execution_count": 250,
   "id": "75d44068",
   "metadata": {},
   "outputs": [
    {
     "data": {
      "text/html": [
       "<div>\n",
       "<style scoped>\n",
       "    .dataframe tbody tr th:only-of-type {\n",
       "        vertical-align: middle;\n",
       "    }\n",
       "\n",
       "    .dataframe tbody tr th {\n",
       "        vertical-align: top;\n",
       "    }\n",
       "\n",
       "    .dataframe thead th {\n",
       "        text-align: right;\n",
       "    }\n",
       "</style>\n",
       "<table border=\"1\" class=\"dataframe\">\n",
       "  <thead>\n",
       "    <tr style=\"text-align: right;\">\n",
       "      <th></th>\n",
       "      <th>Sorteos (%)</th>\n",
       "    </tr>\n",
       "    <tr>\n",
       "      <th>Pais</th>\n",
       "      <th></th>\n",
       "    </tr>\n",
       "  </thead>\n",
       "  <tbody>\n",
       "    <tr>\n",
       "      <th>Brasil</th>\n",
       "      <td>45.24</td>\n",
       "    </tr>\n",
       "    <tr>\n",
       "      <th>Bolivia</th>\n",
       "      <td>32.37</td>\n",
       "    </tr>\n",
       "    <tr>\n",
       "      <th>Argentina</th>\n",
       "      <td>11.56</td>\n",
       "    </tr>\n",
       "    <tr>\n",
       "      <th>Paraguay</th>\n",
       "      <td>10.83</td>\n",
       "    </tr>\n",
       "  </tbody>\n",
       "</table>\n",
       "</div>"
      ],
      "text/plain": [
       "           Sorteos (%)\n",
       "Pais                  \n",
       "Brasil           45.24\n",
       "Bolivia          32.37\n",
       "Argentina        11.56\n",
       "Paraguay         10.83"
      ]
     },
     "execution_count": 250,
     "metadata": {},
     "output_type": "execute_result"
    },
    {
     "data": {
      "image/png": "[encoded data removed]",
      "text/plain": [
       "<Figure size 432x288 with 1 Axes>"
      ]
     },
     "metadata": {
      "needs_background": "light"
     },
     "output_type": "display_data"
    }
   ],
   "source": [
    "agrupar(temp_B4, 'Pais')"
   ]
  },
  {
   "cell_type": "markdown",
   "id": "d565fbd0",
   "metadata": {},
   "source": [
    "**Si el rival del bombo 1 es uruguayo:**"
   ]
  },
  {
   "cell_type": "code",
   "execution_count": 252,
   "id": "ec61e1a2",
   "metadata": {},
   "outputs": [],
   "source": [
    "# Buscar sorteos con equipos uruguayos en B1 (por id).\n",
    "temp_df = df_uc[df_uc['id_sorteo'].isin(B1_uruguay['id_sorteo'].to_list())]\n",
    "\n",
    "# Filtrar por bombos\n",
    "temp_B3 = temp_df[temp_df['Bombo'] == 3]\n",
    "temp_B4 = temp_df[temp_df['Bombo'] == 4]"
   ]
  },
  {
   "cell_type": "raw",
   "id": "68d9da08",
   "metadata": {},
   "source": [
    "Bombo 3:"
   ]
  },
  {
   "cell_type": "code",
   "execution_count": 253,
   "id": "cc07c759",
   "metadata": {},
   "outputs": [
    {
     "data": {
      "text/html": [
       "<div>\n",
       "<style scoped>\n",
       "    .dataframe tbody tr th:only-of-type {\n",
       "        vertical-align: middle;\n",
       "    }\n",
       "\n",
       "    .dataframe tbody tr th {\n",
       "        vertical-align: top;\n",
       "    }\n",
       "\n",
       "    .dataframe thead th {\n",
       "        text-align: right;\n",
       "    }\n",
       "</style>\n",
       "<table border=\"1\" class=\"dataframe\">\n",
       "  <thead>\n",
       "    <tr style=\"text-align: right;\">\n",
       "      <th></th>\n",
       "      <th>Sorteos (%)</th>\n",
       "    </tr>\n",
       "    <tr>\n",
       "      <th>Equipo</th>\n",
       "      <th></th>\n",
       "    </tr>\n",
       "  </thead>\n",
       "  <tbody>\n",
       "    <tr>\n",
       "      <th>Bragantino</th>\n",
       "      <td>32.01</td>\n",
       "    </tr>\n",
       "    <tr>\n",
       "      <th>Colón</th>\n",
       "      <td>16.99</td>\n",
       "    </tr>\n",
       "    <tr>\n",
       "      <th>Sporting Cristal</th>\n",
       "      <td>9.31</td>\n",
       "    </tr>\n",
       "    <tr>\n",
       "      <th>Deportes Tolima</th>\n",
       "      <td>8.70</td>\n",
       "    </tr>\n",
       "    <tr>\n",
       "      <th>Caracas</th>\n",
       "      <td>8.49</td>\n",
       "    </tr>\n",
       "    <tr>\n",
       "      <th>Deportivo Táchira</th>\n",
       "      <td>8.45</td>\n",
       "    </tr>\n",
       "    <tr>\n",
       "      <th>Alianza Lima</th>\n",
       "      <td>8.29</td>\n",
       "    </tr>\n",
       "    <tr>\n",
       "      <th>Deportivo Cali</th>\n",
       "      <td>7.76</td>\n",
       "    </tr>\n",
       "  </tbody>\n",
       "</table>\n",
       "</div>"
      ],
      "text/plain": [
       "                   Sorteos (%)\n",
       "Equipo                        \n",
       "Bragantino               32.01\n",
       "Colón                    16.99\n",
       "Sporting Cristal          9.31\n",
       "Deportes Tolima           8.70\n",
       "Caracas                   8.49\n",
       "Deportivo Táchira         8.45\n",
       "Alianza Lima              8.29\n",
       "Deportivo Cali            7.76"
      ]
     },
     "execution_count": 253,
     "metadata": {},
     "output_type": "execute_result"
    },
    {
     "data": {
      "image/png": "[encoded data removed]",
      "text/plain": [
       "<Figure size 432x288 with 1 Axes>"
      ]
     },
     "metadata": {
      "needs_background": "light"
     },
     "output_type": "display_data"
    }
   ],
   "source": [
    "agrupar(temp_B3, 'Equipo')"
   ]
  },
  {
   "cell_type": "code",
   "execution_count": 254,
   "id": "312d8402",
   "metadata": {},
   "outputs": [
    {
     "data": {
      "text/html": [
       "<div>\n",
       "<style scoped>\n",
       "    .dataframe tbody tr th:only-of-type {\n",
       "        vertical-align: middle;\n",
       "    }\n",
       "\n",
       "    .dataframe tbody tr th {\n",
       "        vertical-align: top;\n",
       "    }\n",
       "\n",
       "    .dataframe thead th {\n",
       "        text-align: right;\n",
       "    }\n",
       "</style>\n",
       "<table border=\"1\" class=\"dataframe\">\n",
       "  <thead>\n",
       "    <tr style=\"text-align: right;\">\n",
       "      <th></th>\n",
       "      <th>Sorteos (%)</th>\n",
       "    </tr>\n",
       "    <tr>\n",
       "      <th>Pais</th>\n",
       "      <th></th>\n",
       "    </tr>\n",
       "  </thead>\n",
       "  <tbody>\n",
       "    <tr>\n",
       "      <th>Brasil</th>\n",
       "      <td>32.01</td>\n",
       "    </tr>\n",
       "    <tr>\n",
       "      <th>Perú</th>\n",
       "      <td>17.60</td>\n",
       "    </tr>\n",
       "    <tr>\n",
       "      <th>Argentina</th>\n",
       "      <td>16.99</td>\n",
       "    </tr>\n",
       "    <tr>\n",
       "      <th>Venezuela</th>\n",
       "      <td>16.95</td>\n",
       "    </tr>\n",
       "    <tr>\n",
       "      <th>Colombia</th>\n",
       "      <td>16.45</td>\n",
       "    </tr>\n",
       "  </tbody>\n",
       "</table>\n",
       "</div>"
      ],
      "text/plain": [
       "           Sorteos (%)\n",
       "Pais                  \n",
       "Brasil           32.01\n",
       "Perú             17.60\n",
       "Argentina        16.99\n",
       "Venezuela        16.95\n",
       "Colombia         16.45"
      ]
     },
     "execution_count": 254,
     "metadata": {},
     "output_type": "execute_result"
    },
    {
     "data": {
      "image/png": "[encoded data removed]",
      "text/plain": [
       "<Figure size 432x288 with 1 Axes>"
      ]
     },
     "metadata": {
      "needs_background": "light"
     },
     "output_type": "display_data"
    }
   ],
   "source": [
    "agrupar(temp_B3, 'Pais')"
   ]
  },
  {
   "cell_type": "markdown",
   "id": "86c2c1ec",
   "metadata": {},
   "source": [
    "Bombo 4:"
   ]
  },
  {
   "cell_type": "code",
   "execution_count": 255,
   "id": "46ab5c81",
   "metadata": {},
   "outputs": [
    {
     "data": {
      "text/html": [
       "<div>\n",
       "<style scoped>\n",
       "    .dataframe tbody tr th:only-of-type {\n",
       "        vertical-align: middle;\n",
       "    }\n",
       "\n",
       "    .dataframe tbody tr th {\n",
       "        vertical-align: top;\n",
       "    }\n",
       "\n",
       "    .dataframe thead th {\n",
       "        text-align: right;\n",
       "    }\n",
       "</style>\n",
       "<table border=\"1\" class=\"dataframe\">\n",
       "  <thead>\n",
       "    <tr style=\"text-align: right;\">\n",
       "      <th></th>\n",
       "      <th>Sorteos (%)</th>\n",
       "    </tr>\n",
       "    <tr>\n",
       "      <th>Equipo</th>\n",
       "      <th></th>\n",
       "    </tr>\n",
       "  </thead>\n",
       "  <tbody>\n",
       "    <tr>\n",
       "      <th>Fortaleza</th>\n",
       "      <td>31.80</td>\n",
       "    </tr>\n",
       "    <tr>\n",
       "      <th>Talleres</th>\n",
       "      <td>16.58</td>\n",
       "    </tr>\n",
       "    <tr>\n",
       "      <th>América M.G.</th>\n",
       "      <td>9.64</td>\n",
       "    </tr>\n",
       "    <tr>\n",
       "      <th>Always Ready</th>\n",
       "      <td>9.07</td>\n",
       "    </tr>\n",
       "    <tr>\n",
       "      <th>The Strongest</th>\n",
       "      <td>8.82</td>\n",
       "    </tr>\n",
       "    <tr>\n",
       "      <th>Olimpia</th>\n",
       "      <td>8.41</td>\n",
       "    </tr>\n",
       "    <tr>\n",
       "      <th>Independiente Petrolero</th>\n",
       "      <td>7.92</td>\n",
       "    </tr>\n",
       "    <tr>\n",
       "      <th>Estudiantes L.P.</th>\n",
       "      <td>7.76</td>\n",
       "    </tr>\n",
       "  </tbody>\n",
       "</table>\n",
       "</div>"
      ],
      "text/plain": [
       "                         Sorteos (%)\n",
       "Equipo                              \n",
       "Fortaleza                      31.80\n",
       "Talleres                       16.58\n",
       "América M.G.                    9.64\n",
       "Always Ready                    9.07\n",
       "The Strongest                   8.82\n",
       "Olimpia                         8.41\n",
       "Independiente Petrolero         7.92\n",
       "Estudiantes L.P.                7.76"
      ]
     },
     "execution_count": 255,
     "metadata": {},
     "output_type": "execute_result"
    },
    {
     "data": {
      "image/png": "[encoded data removed]",
      "text/plain": [
       "<Figure size 432x288 with 1 Axes>"
      ]
     },
     "metadata": {
      "needs_background": "light"
     },
     "output_type": "display_data"
    }
   ],
   "source": [
    "agrupar(temp_B4, 'Equipo')"
   ]
  },
  {
   "cell_type": "code",
   "execution_count": 256,
   "id": "0181d1b3",
   "metadata": {},
   "outputs": [
    {
     "data": {
      "text/html": [
       "<div>\n",
       "<style scoped>\n",
       "    .dataframe tbody tr th:only-of-type {\n",
       "        vertical-align: middle;\n",
       "    }\n",
       "\n",
       "    .dataframe tbody tr th {\n",
       "        vertical-align: top;\n",
       "    }\n",
       "\n",
       "    .dataframe thead th {\n",
       "        text-align: right;\n",
       "    }\n",
       "</style>\n",
       "<table border=\"1\" class=\"dataframe\">\n",
       "  <thead>\n",
       "    <tr style=\"text-align: right;\">\n",
       "      <th></th>\n",
       "      <th>Sorteos (%)</th>\n",
       "    </tr>\n",
       "    <tr>\n",
       "      <th>Pais</th>\n",
       "      <th></th>\n",
       "    </tr>\n",
       "  </thead>\n",
       "  <tbody>\n",
       "    <tr>\n",
       "      <th>Brasil</th>\n",
       "      <td>41.44</td>\n",
       "    </tr>\n",
       "    <tr>\n",
       "      <th>Bolivia</th>\n",
       "      <td>25.81</td>\n",
       "    </tr>\n",
       "    <tr>\n",
       "      <th>Argentina</th>\n",
       "      <td>24.33</td>\n",
       "    </tr>\n",
       "    <tr>\n",
       "      <th>Paraguay</th>\n",
       "      <td>8.41</td>\n",
       "    </tr>\n",
       "  </tbody>\n",
       "</table>\n",
       "</div>"
      ],
      "text/plain": [
       "           Sorteos (%)\n",
       "Pais                  \n",
       "Brasil           41.44\n",
       "Bolivia          25.81\n",
       "Argentina        24.33\n",
       "Paraguay          8.41"
      ]
     },
     "execution_count": 256,
     "metadata": {},
     "output_type": "execute_result"
    },
    {
     "data": {
      "image/png": "[encoded data removed]",
      "text/plain": [
       "<Figure size 432x288 with 1 Axes>"
      ]
     },
     "metadata": {
      "needs_background": "light"
     },
     "output_type": "display_data"
    }
   ],
   "source": [
    "agrupar(temp_B4, 'Pais')"
   ]
  },
  {
   "cell_type": "markdown",
   "id": "7cfd7ee7",
   "metadata": {},
   "source": [
    "### 4.3. Análisis de grupos con equipos brasileños y/o argentinos."
   ]
  },
  {
   "cell_type": "code",
   "execution_count": 76,
   "id": "c1cdd36a",
   "metadata": {},
   "outputs": [
    {
     "name": "stdout",
     "output_type": "stream",
     "text": [
      "Un 87.4% de los grupos sorteados para la UC contiene al menos un equipo brasileño.\n",
      "Un 77.5% de los grupos sorteados para la UC contiene sólo un equipo brasileño.\n",
      "Un 9.9% de los grupos sorteados para la UC contiene dos equipos brasileños.\n"
     ]
    }
   ],
   "source": [
    "# Grupos con equipos brasileños.\n",
    "# Obtener lista de ids unicos.\n",
    "ids_unicos = list(df_uc['id_sorteo'].unique()\n",
    "\n",
    "# Obtener equipos de Brasil \n",
    "equipos_brasil = df_uc[df_uc['Pais'] == 'Brasil']\n",
    "                  \n",
    "# Obtener ids de los sorteos en que se encuentran \n",
    "ids_grupos_brasil = equipos_brasil['id_sorteo'].to_list()\n",
    "ids_grupos_brasil.sort()\n",
    "                  \n",
    "# Obtener valores únicos en la lista con ids:\n",
    "ids_unicos_brasil = list(set(ids_grupos_brasil))\n",
    "\n",
    "# Función que calcula el porcentaje de grupos que cumplen cierta condición (estos grupos se ingresan como lista de sus ids)\n",
    "def porcentaje(lista):\n",
    "    return round(len(lista)/len(ids_unicos) * 100, 1)\n",
    "\n",
    "# Grupos con sólo un equipo brasileño y con dos equipos brasileños\n",
    "from collections import Counter\n",
    "# Cuenta cuantas veces se encuentra un id_sorteo en la lista de ids.\n",
    "counts = Counter(ids_grupos_brasil)\n",
    "uno_de_brasil = [id for id in ids if counts[id] == 1]\n",
    "dos_de_brasil = [id for id in ids if counts[id] == 2]\n",
    "\n",
    "print(f'Un {porcentaje(ids_unicos_brasil)}% de los grupos sorteados para la UC contiene al menos un equipo brasileño.')\n",
    "print(f'Un {porcentaje(uno_de_brasil)}% de los grupos sorteados para la UC contiene sólo un equipo brasileño.')\n",
    "print(f'Un {porcentaje(dos_de_brasil)}% de los grupos sorteados para la UC contiene dos equipos brasileños.')"
   ]
  },
  {
   "cell_type": "code",
   "execution_count": null,
   "id": "54b7e3c8",
   "metadata": {},
   "outputs": [],
   "source": [
    "# Grupos con equipos argentinos.\n",
    "\n",
    "# Obtener equipos de Argentina\n",
    "equipos_argentina = df_uc[df_uc['Pais'] == 'Argentina']\n",
    "                  \n",
    "# Obtener ids de los sorteos en que se encuentran \n",
    "ids_grupos_argentina  = equipos_argentina['id_sorteo'].to_list()\n",
    "ids_grupos_argentina .sort()\n",
    "                  \n",
    "# Obtener valores únicos en la lista con ids:\n",
    "ids_unicos_brasil = list(set(ids_grupos_brasil))\n",
    "\n",
    "# Función que calcula el porcentaje de grupos que cumplen cierta condición (estos grupos se ingresan como lista de sus ids)\n",
    "def porcentaje(lista):\n",
    "    return round(len(lista)/len(ids_unicos) * 100, 1)\n",
    "\n",
    "# Grupos con sólo un equipo brasileño y con dos equipos brasileños\n",
    "from collections import Counter\n",
    "# Cuenta cuantas veces se encuentra un id_sorteo en la lista de ids.\n",
    "counts = Counter(ids_grupos_brasil)\n",
    "uno_de_brasil = [id for id in ids if counts[id] == 1]\n",
    "dos_de_brasil = [id for id in ids if counts[id] == 2]\n",
    "\n",
    "print(f'Un {porcentaje(ids_unicos_brasil)}% de los grupos sorteados para la UC contiene al menos un equipo brasileño.')\n",
    "print(f'Un {porcentaje(uno_de_brasil)}% de los grupos sorteados para la UC contiene sólo un equipo brasileño.')\n",
    "print(f'Un {porcentaje(dos_de_brasil)}% de los grupos sorteados para la UC contiene dos equipos brasileños.')"
   ]
  },
  {
   "cell_type": "code",
   "execution_count": 72,
   "id": "99b5f137",
   "metadata": {},
   "outputs": [],
   "source": [
    "# Grupos con sólo un equipo brasileño y con dos equipos brasileños\n",
    "from collections import Counter\n",
    "# Cuenta cuantas veces se encuentra un id_sorteo en la lista de ids.\n",
    "counts = Counter(ids_grupos_brasil)\n",
    "uno_de_brasil = [id for id in ids if counts[id] == 1]\n",
    "dos_de_brasil = [id for id in ids if counts[id] == 2]"
   ]
  },
  {
   "cell_type": "markdown",
   "id": "ec6f2104",
   "metadata": {},
   "source": [
    "## Analizar\n",
    "\n",
    "- Grupos con argentinos.\n",
    "- Grupos sin argentinos.\n",
    "- Grupos sin brasileños ni argentinos.\n",
    "- Grupos con 2 brasileños.\n",
    "- Grupos con 2 argentinos.\n",
    "- Grupos con 2 brasileños y 1 argentino.\n",
    "- Grupos con 2 argentinos y 1 brasileño.\n",
    "- Grupo más repetido.\n"
   ]
  }
 ],
 "metadata": {
  "kernelspec": {
   "display_name": "Python 3",
   "language": "python",
   "name": "python3"
  },
  "language_info": {
   "codemirror_mode": {
    "name": "ipython",
    "version": 3
   },
   "file_extension": ".py",
   "mimetype": "text/x-python",
   "name": "python",
   "nbconvert_exporter": "python",
   "pygments_lexer": "ipython3",
   "version": "3.8.8"
  }
 },
 "nbformat": 4,
 "nbformat_minor": 5
}
