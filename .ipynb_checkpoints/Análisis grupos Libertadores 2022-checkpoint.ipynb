{
 "cells": [
  {
   "cell_type": "markdown",
   "id": "2a90b103",
   "metadata": {},
   "source": [
    "# Análisis de simulación de sorteos de la Copa Libertadores 2022.\n",
    "\n",
    "El objetivo de este notebook es analizar los posibles grupos en los que se ubicaría Universidad Católica en la Copa Libertadores 2022.\n",
    "\n",
    "## 1. Obtención de los datos.\n",
    "\n",
    "Los datos se obtuvieron realizando más de 10.000 simulaciones de sorteos de la Copa Libertadores, utilizando la función _sortear_ del archivo sorteo.py ubicado en el repositorio [sorteo_libertadores](https://github.com/mumoyarce96/sorteo_libertadores).\n",
    "\n",
    "## 2. Descripción de los datos.\n",
    "\n",
    "Cada fila corresponde a un equipo. Los datos tienen los siguientes features:\n",
    "- **Bombo:** Bombo o bolillero en el que se encontraba el equipo. \n",
    "- **Equipo:** Nombre del equipo.\n",
    "- **Pais:** País del que el equipo es originario. Los equipos provenientes de las fases previas tienen _fase previa_ como valor en este feature.\n",
    "- **Grupo:** De A a H. Representa en qué grupo esta ubicado el equipo.\n",
    "- **id_sorteo:** Este feature permite diferenciar los distintos sorteos simulados.\n",
    "\n",
    "\n",
    "Inicialmente, los datos se ubican en la carpeta sorteos de este repositorio y cada simulación se encuentra en un archivo con el nombre sorteo+id_sorteo.csv. Por lo tanto, el primer paso en este análisis es juntar los datos de todos los sorteos en un dataframe y exportarlos a un archivo .csv llamado sorteos.csv para no tener que repetir este paso.\n",
    "\n",
    "A continuación se muestra el código de este primer paso, pero se deja comentado para evitar que se ejecute, debido a toma mucho tiempo en hacerlo. Es mejor saltarse esta celda y pasar a la celda de carga del archivo sorteos.csv."
   ]
  },
  {
   "cell_type": "code",
   "execution_count": 1,
   "id": "74a17596",
   "metadata": {},
   "outputs": [],
   "source": [
    "# Saltar esta celda y ejecutar la siguiente\n",
    "import pandas as pd\n",
    "import glob\n",
    "import os\n",
    "\n",
    "path = r'./sorteos'        \n",
    "all_files = glob.glob(os.path.join(path, \"*.csv\"))    \n",
    "\n",
    "# Cargar dataframe de sorteos de cada archivo\n",
    "#df_from_each_file = (pd.read_csv(f) for f in all_files)\n",
    "# Concatenar todos los dataframes\n",
    "#sorteos  = pd.concat(df_from_each_file, ignore_index=True)\n",
    "# Exportar a archivo sorteos.csv \n",
    "#sorteos.to_csv('sorteos.csv', index = False)"
   ]
  },
  {
   "cell_type": "code",
   "execution_count": null,
   "id": "d6587d0f",
   "metadata": {},
   "outputs": [],
   "source": [
    "# Ejecutar esta celda\n",
    "# Cargar archivo sorteos.csv a la variable df.\n",
    "import pandas as pd\n",
    "df = pd.read_csv('sorteos.csv')"
   ]
  },
  {
   "cell_type": "markdown",
   "id": "525d9168",
   "metadata": {},
   "source": [
    "## 3. Filtrar datos y corregir.\n",
    "\n",
    "Como el objetivo es analizar los posibles grupos de Universidad Católica (UC), se filtran los datos para quedarse sólo con los equipos que comparten grupo con la UC para cada sorteo (id_sorteo). Esta celda se tarda en ejecutar, por lo que se recomienda saltarsela y cargar el archivo grupos_uc.csv en la celda siguiente."
   ]
  },
  {
   "cell_type": "code",
   "execution_count": 12,
   "id": "4480c85f",
   "metadata": {},
   "outputs": [],
   "source": [
    "# Saltarse esta celda\n",
    "\n",
    "# Los distintos grupos de la UC se guardarán en el dataframe df_uc\n",
    "#df_uc =pd.DataFrame()\n",
    "\n",
    "# Para cada id_sorteo quedarse sólo con los grupos de la UC.\n",
    "for ID in df['id_sorteo'].unique():\n",
    "    # Quedarse sólo con un sorteo\n",
    "    temp_df = df[df['id_sorteo'] == ID]\n",
    "    # Buscar en qué grupo se encuentra la UC\n",
    "    grupo_uc = temp_df[temp_df['Equipo'] == 'Universidad Católica']['Grupo'].to_string(index = False)\n",
    "    # Filtrar temp_df para quedarse sólo con el grupo de la UC\n",
    "    temp_df = temp_df[temp_df['Grupo'] == grupo_uc]\n",
    "    # Concatenar temp_df a df_uc\n",
    "    #df_uc = pd.concat([df_uc, temp_df], ignore_index = True)\n",
    "\n",
    "# Guardar dataframe en archivo grupos_uc.csv\n",
    "df_uc.to_csv('grupos_uc.csv', index = False)"
   ]
  },
  {
   "cell_type": "code",
   "execution_count": 183,
   "id": "34adfb08",
   "metadata": {},
   "outputs": [],
   "source": [
    "# Cargar grupos_uc.csv\n",
    "df_uc = pd.read_csv('grupos_uc.csv')"
   ]
  },
  {
   "cell_type": "markdown",
   "id": "8fac463c",
   "metadata": {},
   "source": [
    "A continuación, se corrige el país de los equipos provenientes de la fase previa, estos equipos son:\n",
    "- Olimpia de Paraguay.\n",
    "- The Strongest de Bolivia.\n",
    "- Estudiantes de La Plata de Argentina.\n",
    "- América de Brasil."
   ]
  },
  {
   "cell_type": "code",
   "execution_count": 184,
   "id": "d0d4bfde",
   "metadata": {},
   "outputs": [],
   "source": [
    "# Lista equipos contiene el nombre de los equipos provenientes de fase previa y lista países contiene sus respectivos países.\n",
    "equipos = ['Olimpia', 'The Strongest', 'Estudiantes L.P.', 'América M.G.']\n",
    "paises = ['Paraguay', 'Bolivia', 'Argentina', 'Brasil']\n",
    "\n",
    "# Modificar valores de columna Pais en dataframe.\n",
    "for i in range(len(equipos)):\n",
    "    df_uc.loc[df_uc['Equipo'] == equipos[i], 'Pais'] = paises[i]"
   ]
  },
  {
   "cell_type": "markdown",
   "id": "b46bcc82",
   "metadata": {},
   "source": [
    "## 4. Análisis de datos.\n",
    "\n",
    "### 4.1. Distribución grupo en que se ubica la UC. \n",
    "\n",
    "En primer lugar, se analiza en la distribución de grupos (letras) en que se ubica la UC. Se esperaría que esta distribución sea uniforme, pero debido a las restricciones de no poder tener dos equipos del mismo país (a menos que uno de ellos provenga de la fase previa) puede que este no sea al caso.\n",
    "\n",
    "# DECIR QUE SE CREÓ LA FUNCIÓN AGRUPAR"
   ]
  },
  {
   "cell_type": "code",
   "execution_count": 220,
   "id": "f963bcfe",
   "metadata": {},
   "outputs": [
    {
     "data": {
      "text/html": [
       "<div>\n",
       "<style scoped>\n",
       "    .dataframe tbody tr th:only-of-type {\n",
       "        vertical-align: middle;\n",
       "    }\n",
       "\n",
       "    .dataframe tbody tr th {\n",
       "        vertical-align: top;\n",
       "    }\n",
       "\n",
       "    .dataframe thead th {\n",
       "        text-align: right;\n",
       "    }\n",
       "</style>\n",
       "<table border=\"1\" class=\"dataframe\">\n",
       "  <thead>\n",
       "    <tr style=\"text-align: right;\">\n",
       "      <th></th>\n",
       "      <th>Sorteos (%)</th>\n",
       "    </tr>\n",
       "    <tr>\n",
       "      <th>Grupo</th>\n",
       "      <th></th>\n",
       "    </tr>\n",
       "  </thead>\n",
       "  <tbody>\n",
       "    <tr>\n",
       "      <th>A</th>\n",
       "      <td>13.95</td>\n",
       "    </tr>\n",
       "    <tr>\n",
       "      <th>B</th>\n",
       "      <td>12.95</td>\n",
       "    </tr>\n",
       "    <tr>\n",
       "      <th>C</th>\n",
       "      <td>12.36</td>\n",
       "    </tr>\n",
       "    <tr>\n",
       "      <th>D</th>\n",
       "      <td>12.19</td>\n",
       "    </tr>\n",
       "    <tr>\n",
       "      <th>E</th>\n",
       "      <td>12.02</td>\n",
       "    </tr>\n",
       "    <tr>\n",
       "      <th>F</th>\n",
       "      <td>12.04</td>\n",
       "    </tr>\n",
       "    <tr>\n",
       "      <th>G</th>\n",
       "      <td>11.49</td>\n",
       "    </tr>\n",
       "    <tr>\n",
       "      <th>H</th>\n",
       "      <td>13.00</td>\n",
       "    </tr>\n",
       "  </tbody>\n",
       "</table>\n",
       "</div>"
      ],
      "text/plain": [
       "       Sorteos (%)\n",
       "Grupo             \n",
       "A            13.95\n",
       "B            12.95\n",
       "C            12.36\n",
       "D            12.19\n",
       "E            12.02\n",
       "F            12.04\n",
       "G            11.49\n",
       "H            13.00"
      ]
     },
     "execution_count": 220,
     "metadata": {},
     "output_type": "execute_result"
    },
    {
     "data": {
      "image/png": "[encoded data removed]",
      "text/plain": [
       "<Figure size 432x288 with 1 Axes>"
      ]
     },
     "metadata": {
      "needs_background": "light"
     },
     "output_type": "display_data"
    }
   ],
   "source": [
    "# Se importa matplotlib.pyplot\n",
    "import matplotlib.pyplot as plt\n",
    "\n",
    "# Crear función de agrupar\n",
    "def agrupar(df, columna, ordenar = True, grafico = True, rotacion = 60):\n",
    "    agrupado = round(df.groupby(columna).count() / df.groupby(columna).count().sum() * 100, 2)\n",
    "    data = agrupado.iloc[:, 0]\n",
    "    output = pd.DataFrame(data = data).rename(columns = {data.name: 'Sorteos (%)'})\n",
    "    if ordenar:\n",
    "        output.sort_values(by = 'Sorteos (%)', ascending = False, inplace = True)\n",
    "    if grafico:\n",
    "        plt.bar(x = output.index, height = output['Sorteos (%)'], color = '#215394')\n",
    "        plt.ylabel('Porcentaje de sorteos')\n",
    "        if columna == 'Equipo':\n",
    "            plt.xticks(rotation = rotacion)\n",
    "        elif columna == 'Pais' and rotacion != 60:\n",
    "            plt.xticks(rotation= rotacion)\n",
    "    return output \n",
    "\n",
    "# Se ordena el dataframe por grupo para que en el gráfico aparezcan con orden \n",
    "df_uc = df_uc.sort_values(by='Grupo')\n",
    "\n",
    "agrupar(df_uc, 'Grupo', ordenar=False)"
   ]
  },
  {
   "cell_type": "markdown",
   "id": "9499ddc5",
   "metadata": {},
   "source": [
    "### DECIR QUE PASA.\n",
    "\n",
    "### 4.2. Distribución de rivales de cada bombo.\n",
    "\n",
    "Analizar distribución de rivales del bombo 1, del bombo 3 y del bombo 4. Evidentemente el bombo 2 no se analiza porque ese es el bombo de la UC."
   ]
  },
  {
   "cell_type": "code",
   "execution_count": 186,
   "id": "dcc21123",
   "metadata": {},
   "outputs": [],
   "source": [
    "# Filtrar equipos por número de bombo en que se ubicaban.\n",
    "B1 = df_uc[df_uc['Bombo'] == 1]\n",
    "B3 = df_uc[df_uc['Bombo'] == 3]\n",
    "B4 = df_uc[df_uc['Bombo'] == 4]"
   ]
  },
  {
   "cell_type": "markdown",
   "id": "3b106838",
   "metadata": {},
   "source": [
    "#### 4.2.1. Bombo 1."
   ]
  },
  {
   "cell_type": "code",
   "execution_count": 187,
   "id": "1abc2c38",
   "metadata": {},
   "outputs": [
    {
     "data": {
      "text/html": [
       "<div>\n",
       "<style scoped>\n",
       "    .dataframe tbody tr th:only-of-type {\n",
       "        vertical-align: middle;\n",
       "    }\n",
       "\n",
       "    .dataframe tbody tr th {\n",
       "        vertical-align: top;\n",
       "    }\n",
       "\n",
       "    .dataframe thead th {\n",
       "        text-align: right;\n",
       "    }\n",
       "</style>\n",
       "<table border=\"1\" class=\"dataframe\">\n",
       "  <thead>\n",
       "    <tr style=\"text-align: right;\">\n",
       "      <th></th>\n",
       "      <th>Sorteos (%)</th>\n",
       "    </tr>\n",
       "    <tr>\n",
       "      <th>Equipo</th>\n",
       "      <th></th>\n",
       "    </tr>\n",
       "  </thead>\n",
       "  <tbody>\n",
       "    <tr>\n",
       "      <th>Athletico Paranaense</th>\n",
       "      <td>14.08</td>\n",
       "    </tr>\n",
       "    <tr>\n",
       "      <th>Palmeiras</th>\n",
       "      <td>13.95</td>\n",
       "    </tr>\n",
       "    <tr>\n",
       "      <th>Atlético Mineiro</th>\n",
       "      <td>13.39</td>\n",
       "    </tr>\n",
       "    <tr>\n",
       "      <th>Flamengo</th>\n",
       "      <td>13.37</td>\n",
       "    </tr>\n",
       "    <tr>\n",
       "      <th>River Plate</th>\n",
       "      <td>12.73</td>\n",
       "    </tr>\n",
       "    <tr>\n",
       "      <th>Boca Juniors</th>\n",
       "      <td>12.38</td>\n",
       "    </tr>\n",
       "    <tr>\n",
       "      <th>Peñarol</th>\n",
       "      <td>10.13</td>\n",
       "    </tr>\n",
       "    <tr>\n",
       "      <th>Nacional</th>\n",
       "      <td>9.97</td>\n",
       "    </tr>\n",
       "  </tbody>\n",
       "</table>\n",
       "</div>"
      ],
      "text/plain": [
       "                      Sorteos (%)\n",
       "Equipo                           \n",
       "Athletico Paranaense        14.08\n",
       "Palmeiras                   13.95\n",
       "Atlético Mineiro            13.39\n",
       "Flamengo                    13.37\n",
       "River Plate                 12.73\n",
       "Boca Juniors                12.38\n",
       "Peñarol                     10.13\n",
       "Nacional                     9.97"
      ]
     },
     "execution_count": 187,
     "metadata": {},
     "output_type": "execute_result"
    },
    {
     "data": {
      "image/png": "[encoded data removed]",
      "text/plain": [
       "<Figure size 432x288 with 1 Axes>"
      ]
     },
     "metadata": {
      "needs_background": "light"
     },
     "output_type": "display_data"
    }
   ],
   "source": [
    "agrupar(B1, 'Equipo')"
   ]
  },
  {
   "cell_type": "code",
   "execution_count": 188,
   "id": "29516c1d",
   "metadata": {},
   "outputs": [
    {
     "data": {
      "text/html": [
       "<div>\n",
       "<style scoped>\n",
       "    .dataframe tbody tr th:only-of-type {\n",
       "        vertical-align: middle;\n",
       "    }\n",
       "\n",
       "    .dataframe tbody tr th {\n",
       "        vertical-align: top;\n",
       "    }\n",
       "\n",
       "    .dataframe thead th {\n",
       "        text-align: right;\n",
       "    }\n",
       "</style>\n",
       "<table border=\"1\" class=\"dataframe\">\n",
       "  <thead>\n",
       "    <tr style=\"text-align: right;\">\n",
       "      <th></th>\n",
       "      <th>Sorteos (%)</th>\n",
       "    </tr>\n",
       "    <tr>\n",
       "      <th>Pais</th>\n",
       "      <th></th>\n",
       "    </tr>\n",
       "  </thead>\n",
       "  <tbody>\n",
       "    <tr>\n",
       "      <th>Brasil</th>\n",
       "      <td>54.79</td>\n",
       "    </tr>\n",
       "    <tr>\n",
       "      <th>Argentina</th>\n",
       "      <td>25.12</td>\n",
       "    </tr>\n",
       "    <tr>\n",
       "      <th>Uruguay</th>\n",
       "      <td>20.09</td>\n",
       "    </tr>\n",
       "  </tbody>\n",
       "</table>\n",
       "</div>"
      ],
      "text/plain": [
       "           Sorteos (%)\n",
       "Pais                  \n",
       "Brasil           54.79\n",
       "Argentina        25.12\n",
       "Uruguay          20.09"
      ]
     },
     "execution_count": 188,
     "metadata": {},
     "output_type": "execute_result"
    },
    {
     "data": {
      "image/png": "[encoded data removed]",
      "text/plain": [
       "<Figure size 432x288 with 1 Axes>"
      ]
     },
     "metadata": {
      "needs_background": "light"
     },
     "output_type": "display_data"
    }
   ],
   "source": [
    "agrupar(B1, 'Pais')"
   ]
  },
  {
   "cell_type": "markdown",
   "id": "e54790e5",
   "metadata": {},
   "source": [
    "#### 4.2.2. Bombo 3."
   ]
  },
  {
   "cell_type": "code",
   "execution_count": 189,
   "id": "ac966d05",
   "metadata": {},
   "outputs": [
    {
     "data": {
      "text/html": [
       "<div>\n",
       "<style scoped>\n",
       "    .dataframe tbody tr th:only-of-type {\n",
       "        vertical-align: middle;\n",
       "    }\n",
       "\n",
       "    .dataframe tbody tr th {\n",
       "        vertical-align: top;\n",
       "    }\n",
       "\n",
       "    .dataframe thead th {\n",
       "        text-align: right;\n",
       "    }\n",
       "</style>\n",
       "<table border=\"1\" class=\"dataframe\">\n",
       "  <thead>\n",
       "    <tr style=\"text-align: right;\">\n",
       "      <th></th>\n",
       "      <th>Sorteos (%)</th>\n",
       "    </tr>\n",
       "    <tr>\n",
       "      <th>Equipo</th>\n",
       "      <th></th>\n",
       "    </tr>\n",
       "  </thead>\n",
       "  <tbody>\n",
       "    <tr>\n",
       "      <th>Bragantino</th>\n",
       "      <td>15.42</td>\n",
       "    </tr>\n",
       "    <tr>\n",
       "      <th>Colón</th>\n",
       "      <td>14.87</td>\n",
       "    </tr>\n",
       "    <tr>\n",
       "      <th>Deportivo Táchira</th>\n",
       "      <td>11.77</td>\n",
       "    </tr>\n",
       "    <tr>\n",
       "      <th>Sporting Cristal</th>\n",
       "      <td>11.74</td>\n",
       "    </tr>\n",
       "    <tr>\n",
       "      <th>Alianza Lima</th>\n",
       "      <td>11.63</td>\n",
       "    </tr>\n",
       "    <tr>\n",
       "      <th>Deportes Tolima</th>\n",
       "      <td>11.62</td>\n",
       "    </tr>\n",
       "    <tr>\n",
       "      <th>Caracas</th>\n",
       "      <td>11.49</td>\n",
       "    </tr>\n",
       "    <tr>\n",
       "      <th>Deportivo Cali</th>\n",
       "      <td>11.46</td>\n",
       "    </tr>\n",
       "  </tbody>\n",
       "</table>\n",
       "</div>"
      ],
      "text/plain": [
       "                   Sorteos (%)\n",
       "Equipo                        \n",
       "Bragantino               15.42\n",
       "Colón                    14.87\n",
       "Deportivo Táchira        11.77\n",
       "Sporting Cristal         11.74\n",
       "Alianza Lima             11.63\n",
       "Deportes Tolima          11.62\n",
       "Caracas                  11.49\n",
       "Deportivo Cali           11.46"
      ]
     },
     "execution_count": 189,
     "metadata": {},
     "output_type": "execute_result"
    },
    {
     "data": {
      "image/png": "[encoded data removed]",
      "text/plain": [
       "<Figure size 432x288 with 1 Axes>"
      ]
     },
     "metadata": {
      "needs_background": "light"
     },
     "output_type": "display_data"
    }
   ],
   "source": [
    "agrupar(B3, 'Equipo')"
   ]
  },
  {
   "cell_type": "code",
   "execution_count": 190,
   "id": "d0b5bb8e",
   "metadata": {},
   "outputs": [
    {
     "data": {
      "text/html": [
       "<div>\n",
       "<style scoped>\n",
       "    .dataframe tbody tr th:only-of-type {\n",
       "        vertical-align: middle;\n",
       "    }\n",
       "\n",
       "    .dataframe tbody tr th {\n",
       "        vertical-align: top;\n",
       "    }\n",
       "\n",
       "    .dataframe thead th {\n",
       "        text-align: right;\n",
       "    }\n",
       "</style>\n",
       "<table border=\"1\" class=\"dataframe\">\n",
       "  <thead>\n",
       "    <tr style=\"text-align: right;\">\n",
       "      <th></th>\n",
       "      <th>Sorteos (%)</th>\n",
       "    </tr>\n",
       "    <tr>\n",
       "      <th>Pais</th>\n",
       "      <th></th>\n",
       "    </tr>\n",
       "  </thead>\n",
       "  <tbody>\n",
       "    <tr>\n",
       "      <th>Perú</th>\n",
       "      <td>23.37</td>\n",
       "    </tr>\n",
       "    <tr>\n",
       "      <th>Venezuela</th>\n",
       "      <td>23.26</td>\n",
       "    </tr>\n",
       "    <tr>\n",
       "      <th>Colombia</th>\n",
       "      <td>23.08</td>\n",
       "    </tr>\n",
       "    <tr>\n",
       "      <th>Brasil</th>\n",
       "      <td>15.42</td>\n",
       "    </tr>\n",
       "    <tr>\n",
       "      <th>Argentina</th>\n",
       "      <td>14.87</td>\n",
       "    </tr>\n",
       "  </tbody>\n",
       "</table>\n",
       "</div>"
      ],
      "text/plain": [
       "           Sorteos (%)\n",
       "Pais                  \n",
       "Perú             23.37\n",
       "Venezuela        23.26\n",
       "Colombia         23.08\n",
       "Brasil           15.42\n",
       "Argentina        14.87"
      ]
     },
     "execution_count": 190,
     "metadata": {},
     "output_type": "execute_result"
    },
    {
     "data": {
      "image/png": "[encoded data removed]",
      "text/plain": [
       "<Figure size 432x288 with 1 Axes>"
      ]
     },
     "metadata": {
      "needs_background": "light"
     },
     "output_type": "display_data"
    }
   ],
   "source": [
    "agrupar(B3, 'Pais')"
   ]
  },
  {
   "cell_type": "markdown",
   "id": "90f7f0c7",
   "metadata": {},
   "source": [
    "#### 4.2.3. Bombo 4."
   ]
  },
  {
   "cell_type": "code",
   "execution_count": 191,
   "id": "6d8e1b76",
   "metadata": {},
   "outputs": [
    {
     "data": {
      "text/html": [
       "<div>\n",
       "<style scoped>\n",
       "    .dataframe tbody tr th:only-of-type {\n",
       "        vertical-align: middle;\n",
       "    }\n",
       "\n",
       "    .dataframe tbody tr th {\n",
       "        vertical-align: top;\n",
       "    }\n",
       "\n",
       "    .dataframe thead th {\n",
       "        text-align: right;\n",
       "    }\n",
       "</style>\n",
       "<table border=\"1\" class=\"dataframe\">\n",
       "  <thead>\n",
       "    <tr style=\"text-align: right;\">\n",
       "      <th></th>\n",
       "      <th>Sorteos (%)</th>\n",
       "    </tr>\n",
       "    <tr>\n",
       "      <th>Equipo</th>\n",
       "      <th></th>\n",
       "    </tr>\n",
       "  </thead>\n",
       "  <tbody>\n",
       "    <tr>\n",
       "      <th>Fortaleza</th>\n",
       "      <td>14.74</td>\n",
       "    </tr>\n",
       "    <tr>\n",
       "      <th>Talleres</th>\n",
       "      <td>14.23</td>\n",
       "    </tr>\n",
       "    <tr>\n",
       "      <th>Always Ready</th>\n",
       "      <td>12.38</td>\n",
       "    </tr>\n",
       "    <tr>\n",
       "      <th>América M.G.</th>\n",
       "      <td>12.29</td>\n",
       "    </tr>\n",
       "    <tr>\n",
       "      <th>Estudiantes L.P.</th>\n",
       "      <td>11.69</td>\n",
       "    </tr>\n",
       "    <tr>\n",
       "      <th>The Strongest</th>\n",
       "      <td>11.62</td>\n",
       "    </tr>\n",
       "    <tr>\n",
       "      <th>Olimpia</th>\n",
       "      <td>11.60</td>\n",
       "    </tr>\n",
       "    <tr>\n",
       "      <th>Independiente Petrolero</th>\n",
       "      <td>11.44</td>\n",
       "    </tr>\n",
       "  </tbody>\n",
       "</table>\n",
       "</div>"
      ],
      "text/plain": [
       "                         Sorteos (%)\n",
       "Equipo                              \n",
       "Fortaleza                      14.74\n",
       "Talleres                       14.23\n",
       "Always Ready                   12.38\n",
       "América M.G.                   12.29\n",
       "Estudiantes L.P.               11.69\n",
       "The Strongest                  11.62\n",
       "Olimpia                        11.60\n",
       "Independiente Petrolero        11.44"
      ]
     },
     "execution_count": 191,
     "metadata": {},
     "output_type": "execute_result"
    },
    {
     "data": {
      "image/png": "[encoded data removed]",
      "text/plain": [
       "<Figure size 432x288 with 1 Axes>"
      ]
     },
     "metadata": {
      "needs_background": "light"
     },
     "output_type": "display_data"
    }
   ],
   "source": [
    "agrupar(B4, 'Equipo')"
   ]
  },
  {
   "cell_type": "code",
   "execution_count": 192,
   "id": "85741fa6",
   "metadata": {},
   "outputs": [
    {
     "data": {
      "text/html": [
       "<div>\n",
       "<style scoped>\n",
       "    .dataframe tbody tr th:only-of-type {\n",
       "        vertical-align: middle;\n",
       "    }\n",
       "\n",
       "    .dataframe tbody tr th {\n",
       "        vertical-align: top;\n",
       "    }\n",
       "\n",
       "    .dataframe thead th {\n",
       "        text-align: right;\n",
       "    }\n",
       "</style>\n",
       "<table border=\"1\" class=\"dataframe\">\n",
       "  <thead>\n",
       "    <tr style=\"text-align: right;\">\n",
       "      <th></th>\n",
       "      <th>Sorteos (%)</th>\n",
       "    </tr>\n",
       "    <tr>\n",
       "      <th>Pais</th>\n",
       "      <th></th>\n",
       "    </tr>\n",
       "  </thead>\n",
       "  <tbody>\n",
       "    <tr>\n",
       "      <th>Bolivia</th>\n",
       "      <td>35.44</td>\n",
       "    </tr>\n",
       "    <tr>\n",
       "      <th>Brasil</th>\n",
       "      <td>27.04</td>\n",
       "    </tr>\n",
       "    <tr>\n",
       "      <th>Argentina</th>\n",
       "      <td>25.92</td>\n",
       "    </tr>\n",
       "    <tr>\n",
       "      <th>Paraguay</th>\n",
       "      <td>11.60</td>\n",
       "    </tr>\n",
       "  </tbody>\n",
       "</table>\n",
       "</div>"
      ],
      "text/plain": [
       "           Sorteos (%)\n",
       "Pais                  \n",
       "Bolivia          35.44\n",
       "Brasil           27.04\n",
       "Argentina        25.92\n",
       "Paraguay         11.60"
      ]
     },
     "execution_count": 192,
     "metadata": {},
     "output_type": "execute_result"
    },
    {
     "data": {
      "image/png": "[encoded data removed]",
      "text/plain": [
       "<Figure size 432x288 with 1 Axes>"
      ]
     },
     "metadata": {
      "needs_background": "light"
     },
     "output_type": "display_data"
    }
   ],
   "source": [
    "agrupar(B4, 'Pais')"
   ]
  },
  {
   "cell_type": "markdown",
   "id": "2fb6d10e",
   "metadata": {},
   "source": [
    "#### 4.2.4. Análisis condicional.\n",
    "\n",
    "Distribución de rivales de los bombos 3 y 4 dados rivales del bombo 1.\n"
   ]
  },
  {
   "cell_type": "code",
   "execution_count": 193,
   "id": "ee0da49d",
   "metadata": {},
   "outputs": [],
   "source": [
    "B1_brasil = B1[B1['Pais'] == 'Brasil']\n",
    "B1_argentina = B1[B1['Pais'] == 'Argentina']\n",
    "B1_uruguay = B1[B1['Pais'] == 'Uruguay']"
   ]
  },
  {
   "cell_type": "markdown",
   "id": "be031293",
   "metadata": {},
   "source": [
    "**Si el rival del bombo 1 es brasileño:**"
   ]
  },
  {
   "cell_type": "code",
   "execution_count": 207,
   "id": "ce1d7927",
   "metadata": {},
   "outputs": [],
   "source": [
    "# Buscar sorteos con equipos brasileños en B1 (por id).\n",
    "temp_df = df_uc[df_uc['id_sorteo'].isin(B1_brasil['id_sorteo'].to_list())]\n",
    "\n",
    "# Filtrar por bombos\n",
    "temp_B3 = temp_df[temp_df['Bombo'] == 3]\n",
    "temp_B4 = temp_df[temp_df['Bombo'] == 4]\n",
    "temp_B3_y_B4 = temp_df[temp_df['Bombo'].isin([3, 4])]"
   ]
  },
  {
   "cell_type": "markdown",
   "id": "ea744cf9",
   "metadata": {},
   "source": [
    "Bombo 3:"
   ]
  },
  {
   "cell_type": "code",
   "execution_count": 242,
   "id": "195dd818",
   "metadata": {},
   "outputs": [
    {
     "data": {
      "text/html": [
       "<div>\n",
       "<style scoped>\n",
       "    .dataframe tbody tr th:only-of-type {\n",
       "        vertical-align: middle;\n",
       "    }\n",
       "\n",
       "    .dataframe tbody tr th {\n",
       "        vertical-align: top;\n",
       "    }\n",
       "\n",
       "    .dataframe thead th {\n",
       "        text-align: right;\n",
       "    }\n",
       "</style>\n",
       "<table border=\"1\" class=\"dataframe\">\n",
       "  <thead>\n",
       "    <tr style=\"text-align: right;\">\n",
       "      <th></th>\n",
       "      <th>Sorteos (%)</th>\n",
       "    </tr>\n",
       "    <tr>\n",
       "      <th>Equipo</th>\n",
       "      <th></th>\n",
       "    </tr>\n",
       "  </thead>\n",
       "  <tbody>\n",
       "    <tr>\n",
       "      <th>Colón</th>\n",
       "      <td>20.92</td>\n",
       "    </tr>\n",
       "    <tr>\n",
       "      <th>Deportivo Táchira</th>\n",
       "      <td>13.60</td>\n",
       "    </tr>\n",
       "    <tr>\n",
       "      <th>Alianza Lima</th>\n",
       "      <td>13.48</td>\n",
       "    </tr>\n",
       "    <tr>\n",
       "      <th>Deportivo Cali</th>\n",
       "      <td>13.35</td>\n",
       "    </tr>\n",
       "    <tr>\n",
       "      <th>Sporting Cristal</th>\n",
       "      <td>12.94</td>\n",
       "    </tr>\n",
       "    <tr>\n",
       "      <th>Caracas</th>\n",
       "      <td>12.88</td>\n",
       "    </tr>\n",
       "    <tr>\n",
       "      <th>Deportes Tolima</th>\n",
       "      <td>12.82</td>\n",
       "    </tr>\n",
       "  </tbody>\n",
       "</table>\n",
       "</div>"
      ],
      "text/plain": [
       "                   Sorteos (%)\n",
       "Equipo                        \n",
       "Colón                    20.92\n",
       "Deportivo Táchira        13.60\n",
       "Alianza Lima             13.48\n",
       "Deportivo Cali           13.35\n",
       "Sporting Cristal         12.94\n",
       "Caracas                  12.88\n",
       "Deportes Tolima          12.82"
      ]
     },
     "execution_count": 242,
     "metadata": {},
     "output_type": "execute_result"
    },
    {
     "data": {
      "image/png": "[encoded data removed]",
      "text/plain": [
       "<Figure size 432x288 with 1 Axes>"
      ]
     },
     "metadata": {
      "needs_background": "light"
     },
     "output_type": "display_data"
    }
   ],
   "source": [
    "agrupar(temp_B3, 'Equipo')"
   ]
  },
  {
   "cell_type": "code",
   "execution_count": 243,
   "id": "2c5f84f4",
   "metadata": {},
   "outputs": [
    {
     "data": {
      "text/html": [
       "<div>\n",
       "<style scoped>\n",
       "    .dataframe tbody tr th:only-of-type {\n",
       "        vertical-align: middle;\n",
       "    }\n",
       "\n",
       "    .dataframe tbody tr th {\n",
       "        vertical-align: top;\n",
       "    }\n",
       "\n",
       "    .dataframe thead th {\n",
       "        text-align: right;\n",
       "    }\n",
       "</style>\n",
       "<table border=\"1\" class=\"dataframe\">\n",
       "  <thead>\n",
       "    <tr style=\"text-align: right;\">\n",
       "      <th></th>\n",
       "      <th>Sorteos (%)</th>\n",
       "    </tr>\n",
       "    <tr>\n",
       "      <th>Pais</th>\n",
       "      <th></th>\n",
       "    </tr>\n",
       "  </thead>\n",
       "  <tbody>\n",
       "    <tr>\n",
       "      <th>Venezuela</th>\n",
       "      <td>26.49</td>\n",
       "    </tr>\n",
       "    <tr>\n",
       "      <th>Perú</th>\n",
       "      <td>26.43</td>\n",
       "    </tr>\n",
       "    <tr>\n",
       "      <th>Colombia</th>\n",
       "      <td>26.17</td>\n",
       "    </tr>\n",
       "    <tr>\n",
       "      <th>Argentina</th>\n",
       "      <td>20.92</td>\n",
       "    </tr>\n",
       "  </tbody>\n",
       "</table>\n",
       "</div>"
      ],
      "text/plain": [
       "           Sorteos (%)\n",
       "Pais                  \n",
       "Venezuela        26.49\n",
       "Perú             26.43\n",
       "Colombia         26.17\n",
       "Argentina        20.92"
      ]
     },
     "execution_count": 243,
     "metadata": {},
     "output_type": "execute_result"
    },
    {
     "data": {
      "image/png": "[encoded data removed]",
      "text/plain": [
       "<Figure size 432x288 with 1 Axes>"
      ]
     },
     "metadata": {
      "needs_background": "light"
     },
     "output_type": "display_data"
    }
   ],
   "source": [
    "agrupar(temp_B3, 'Pais')"
   ]
  },
  {
   "cell_type": "markdown",
   "id": "bb6d69b0",
   "metadata": {},
   "source": [
    "Bombo 4:"
   ]
  },
  {
   "cell_type": "code",
   "execution_count": 244,
   "id": "7eff0bfe",
   "metadata": {},
   "outputs": [
    {
     "data": {
      "text/html": [
       "<div>\n",
       "<style scoped>\n",
       "    .dataframe tbody tr th:only-of-type {\n",
       "        vertical-align: middle;\n",
       "    }\n",
       "\n",
       "    .dataframe tbody tr th {\n",
       "        vertical-align: top;\n",
       "    }\n",
       "\n",
       "    .dataframe thead th {\n",
       "        text-align: right;\n",
       "    }\n",
       "</style>\n",
       "<table border=\"1\" class=\"dataframe\">\n",
       "  <thead>\n",
       "    <tr style=\"text-align: right;\">\n",
       "      <th></th>\n",
       "      <th>Sorteos (%)</th>\n",
       "    </tr>\n",
       "    <tr>\n",
       "      <th>Equipo</th>\n",
       "      <th></th>\n",
       "    </tr>\n",
       "  </thead>\n",
       "  <tbody>\n",
       "    <tr>\n",
       "      <th>Talleres</th>\n",
       "      <td>19.89</td>\n",
       "    </tr>\n",
       "    <tr>\n",
       "      <th>Always Ready</th>\n",
       "      <td>14.45</td>\n",
       "    </tr>\n",
       "    <tr>\n",
       "      <th>América M.G.</th>\n",
       "      <td>13.41</td>\n",
       "    </tr>\n",
       "    <tr>\n",
       "      <th>Independiente Petrolero</th>\n",
       "      <td>13.23</td>\n",
       "    </tr>\n",
       "    <tr>\n",
       "      <th>Estudiantes L.P.</th>\n",
       "      <td>13.20</td>\n",
       "    </tr>\n",
       "    <tr>\n",
       "      <th>Olimpia</th>\n",
       "      <td>13.12</td>\n",
       "    </tr>\n",
       "    <tr>\n",
       "      <th>The Strongest</th>\n",
       "      <td>12.70</td>\n",
       "    </tr>\n",
       "  </tbody>\n",
       "</table>\n",
       "</div>"
      ],
      "text/plain": [
       "                         Sorteos (%)\n",
       "Equipo                              \n",
       "Talleres                       19.89\n",
       "Always Ready                   14.45\n",
       "América M.G.                   13.41\n",
       "Independiente Petrolero        13.23\n",
       "Estudiantes L.P.               13.20\n",
       "Olimpia                        13.12\n",
       "The Strongest                  12.70"
      ]
     },
     "execution_count": 244,
     "metadata": {},
     "output_type": "execute_result"
    },
    {
     "data": {
      "image/png": "[encoded data removed]",
      "text/plain": [
       "<Figure size 432x288 with 1 Axes>"
      ]
     },
     "metadata": {
      "needs_background": "light"
     },
     "output_type": "display_data"
    }
   ],
   "source": [
    "agrupar(temp_B4, 'Equipo')"
   ]
  },
  {
   "cell_type": "code",
   "execution_count": 245,
   "id": "c40183d4",
   "metadata": {},
   "outputs": [
    {
     "data": {
      "text/html": [
       "<div>\n",
       "<style scoped>\n",
       "    .dataframe tbody tr th:only-of-type {\n",
       "        vertical-align: middle;\n",
       "    }\n",
       "\n",
       "    .dataframe tbody tr th {\n",
       "        vertical-align: top;\n",
       "    }\n",
       "\n",
       "    .dataframe thead th {\n",
       "        text-align: right;\n",
       "    }\n",
       "</style>\n",
       "<table border=\"1\" class=\"dataframe\">\n",
       "  <thead>\n",
       "    <tr style=\"text-align: right;\">\n",
       "      <th></th>\n",
       "      <th>Sorteos (%)</th>\n",
       "    </tr>\n",
       "    <tr>\n",
       "      <th>Pais</th>\n",
       "      <th></th>\n",
       "    </tr>\n",
       "  </thead>\n",
       "  <tbody>\n",
       "    <tr>\n",
       "      <th>Bolivia</th>\n",
       "      <td>40.38</td>\n",
       "    </tr>\n",
       "    <tr>\n",
       "      <th>Argentina</th>\n",
       "      <td>33.09</td>\n",
       "    </tr>\n",
       "    <tr>\n",
       "      <th>Brasil</th>\n",
       "      <td>13.41</td>\n",
       "    </tr>\n",
       "    <tr>\n",
       "      <th>Paraguay</th>\n",
       "      <td>13.12</td>\n",
       "    </tr>\n",
       "  </tbody>\n",
       "</table>\n",
       "</div>"
      ],
      "text/plain": [
       "           Sorteos (%)\n",
       "Pais                  \n",
       "Bolivia          40.38\n",
       "Argentina        33.09\n",
       "Brasil           13.41\n",
       "Paraguay         13.12"
      ]
     },
     "execution_count": 245,
     "metadata": {},
     "output_type": "execute_result"
    },
    {
     "data": {
      "image/png": "[encoded data removed]",
      "text/plain": [
       "<Figure size 432x288 with 1 Axes>"
      ]
     },
     "metadata": {
      "needs_background": "light"
     },
     "output_type": "display_data"
    }
   ],
   "source": [
    "agrupar(temp_B4, 'Pais')"
   ]
  },
  {
   "cell_type": "markdown",
   "id": "120015e9",
   "metadata": {},
   "source": [
    "Bombos B3 y B4 en conjunto"
   ]
  },
  {
   "cell_type": "code",
   "execution_count": 208,
   "id": "16c2978a",
   "metadata": {},
   "outputs": [
    {
     "data": {
      "text/html": [
       "<div>\n",
       "<style scoped>\n",
       "    .dataframe tbody tr th:only-of-type {\n",
       "        vertical-align: middle;\n",
       "    }\n",
       "\n",
       "    .dataframe tbody tr th {\n",
       "        vertical-align: top;\n",
       "    }\n",
       "\n",
       "    .dataframe thead th {\n",
       "        text-align: right;\n",
       "    }\n",
       "</style>\n",
       "<table border=\"1\" class=\"dataframe\">\n",
       "  <thead>\n",
       "    <tr style=\"text-align: right;\">\n",
       "      <th></th>\n",
       "      <th>Sorteos (%)</th>\n",
       "    </tr>\n",
       "    <tr>\n",
       "      <th>Equipo</th>\n",
       "      <th></th>\n",
       "    </tr>\n",
       "  </thead>\n",
       "  <tbody>\n",
       "    <tr>\n",
       "      <th>Colón</th>\n",
       "      <td>10.46</td>\n",
       "    </tr>\n",
       "    <tr>\n",
       "      <th>Talleres</th>\n",
       "      <td>9.95</td>\n",
       "    </tr>\n",
       "    <tr>\n",
       "      <th>Always Ready</th>\n",
       "      <td>7.22</td>\n",
       "    </tr>\n",
       "    <tr>\n",
       "      <th>Deportivo Táchira</th>\n",
       "      <td>6.80</td>\n",
       "    </tr>\n",
       "    <tr>\n",
       "      <th>Alianza Lima</th>\n",
       "      <td>6.74</td>\n",
       "    </tr>\n",
       "    <tr>\n",
       "      <th>América M.G.</th>\n",
       "      <td>6.70</td>\n",
       "    </tr>\n",
       "    <tr>\n",
       "      <th>Deportivo Cali</th>\n",
       "      <td>6.67</td>\n",
       "    </tr>\n",
       "    <tr>\n",
       "      <th>Independiente Petrolero</th>\n",
       "      <td>6.61</td>\n",
       "    </tr>\n",
       "    <tr>\n",
       "      <th>Estudiantes L.P.</th>\n",
       "      <td>6.60</td>\n",
       "    </tr>\n",
       "    <tr>\n",
       "      <th>Olimpia</th>\n",
       "      <td>6.56</td>\n",
       "    </tr>\n",
       "    <tr>\n",
       "      <th>Sporting Cristal</th>\n",
       "      <td>6.47</td>\n",
       "    </tr>\n",
       "    <tr>\n",
       "      <th>Caracas</th>\n",
       "      <td>6.44</td>\n",
       "    </tr>\n",
       "    <tr>\n",
       "      <th>Deportes Tolima</th>\n",
       "      <td>6.41</td>\n",
       "    </tr>\n",
       "    <tr>\n",
       "      <th>The Strongest</th>\n",
       "      <td>6.35</td>\n",
       "    </tr>\n",
       "  </tbody>\n",
       "</table>\n",
       "</div>"
      ],
      "text/plain": [
       "                         Sorteos (%)\n",
       "Equipo                              \n",
       "Colón                          10.46\n",
       "Talleres                        9.95\n",
       "Always Ready                    7.22\n",
       "Deportivo Táchira               6.80\n",
       "Alianza Lima                    6.74\n",
       "América M.G.                    6.70\n",
       "Deportivo Cali                  6.67\n",
       "Independiente Petrolero         6.61\n",
       "Estudiantes L.P.                6.60\n",
       "Olimpia                         6.56\n",
       "Sporting Cristal                6.47\n",
       "Caracas                         6.44\n",
       "Deportes Tolima                 6.41\n",
       "The Strongest                   6.35"
      ]
     },
     "execution_count": 208,
     "metadata": {},
     "output_type": "execute_result"
    },
    {
     "data": {
      "image/png": "[encoded data removed]",
      "text/plain": [
       "<Figure size 432x288 with 1 Axes>"
      ]
     },
     "metadata": {
      "needs_background": "light"
     },
     "output_type": "display_data"
    }
   ],
   "source": [
    "agrupar(temp_B3_y_B4, 'Equipo', rotacion = 90)"
   ]
  },
  {
   "cell_type": "code",
   "execution_count": 209,
   "id": "2d3926e7",
   "metadata": {},
   "outputs": [
    {
     "data": {
      "text/html": [
       "<div>\n",
       "<style scoped>\n",
       "    .dataframe tbody tr th:only-of-type {\n",
       "        vertical-align: middle;\n",
       "    }\n",
       "\n",
       "    .dataframe tbody tr th {\n",
       "        vertical-align: top;\n",
       "    }\n",
       "\n",
       "    .dataframe thead th {\n",
       "        text-align: right;\n",
       "    }\n",
       "</style>\n",
       "<table border=\"1\" class=\"dataframe\">\n",
       "  <thead>\n",
       "    <tr style=\"text-align: right;\">\n",
       "      <th></th>\n",
       "      <th>Sorteos (%)</th>\n",
       "    </tr>\n",
       "    <tr>\n",
       "      <th>Pais</th>\n",
       "      <th></th>\n",
       "    </tr>\n",
       "  </thead>\n",
       "  <tbody>\n",
       "    <tr>\n",
       "      <th>Argentina</th>\n",
       "      <td>27.01</td>\n",
       "    </tr>\n",
       "    <tr>\n",
       "      <th>Bolivia</th>\n",
       "      <td>20.19</td>\n",
       "    </tr>\n",
       "    <tr>\n",
       "      <th>Venezuela</th>\n",
       "      <td>13.24</td>\n",
       "    </tr>\n",
       "    <tr>\n",
       "      <th>Perú</th>\n",
       "      <td>13.21</td>\n",
       "    </tr>\n",
       "    <tr>\n",
       "      <th>Colombia</th>\n",
       "      <td>13.09</td>\n",
       "    </tr>\n",
       "    <tr>\n",
       "      <th>Brasil</th>\n",
       "      <td>6.70</td>\n",
       "    </tr>\n",
       "    <tr>\n",
       "      <th>Paraguay</th>\n",
       "      <td>6.56</td>\n",
       "    </tr>\n",
       "  </tbody>\n",
       "</table>\n",
       "</div>"
      ],
      "text/plain": [
       "           Sorteos (%)\n",
       "Pais                  \n",
       "Argentina        27.01\n",
       "Bolivia          20.19\n",
       "Venezuela        13.24\n",
       "Perú             13.21\n",
       "Colombia         13.09\n",
       "Brasil            6.70\n",
       "Paraguay          6.56"
      ]
     },
     "execution_count": 209,
     "metadata": {},
     "output_type": "execute_result"
    },
    {
     "data": {
      "image/png": "[encoded data removed]",
      "text/plain": [
       "<Figure size 432x288 with 1 Axes>"
      ]
     },
     "metadata": {
      "needs_background": "light"
     },
     "output_type": "display_data"
    }
   ],
   "source": [
    "agrupar(temp_B3_y_B4, 'Pais')"
   ]
  },
  {
   "cell_type": "markdown",
   "id": "f35d4cdc",
   "metadata": {},
   "source": [
    "**Si el rival del bombo 1 es argentino:**"
   ]
  },
  {
   "cell_type": "code",
   "execution_count": 210,
   "id": "6cb18434",
   "metadata": {},
   "outputs": [],
   "source": [
    "# Buscar sorteos con equipos argentinos en B1 (por id).\n",
    "temp_df = df_uc[df_uc['id_sorteo'].isin(B1_argentina['id_sorteo'].to_list())]\n",
    "\n",
    "# Filtrar por bombos\n",
    "temp_B3 = temp_df[temp_df['Bombo'] == 3]\n",
    "temp_B4 = temp_df[temp_df['Bombo'] == 4]\n",
    "temp_B3_y_B4 = temp_df[temp_df['Bombo'].isin([3, 4])]"
   ]
  },
  {
   "cell_type": "markdown",
   "id": "bf9109bc",
   "metadata": {},
   "source": [
    "Bombo 3:"
   ]
  },
  {
   "cell_type": "code",
   "execution_count": 211,
   "id": "631a812e",
   "metadata": {},
   "outputs": [
    {
     "data": {
      "text/html": [
       "<div>\n",
       "<style scoped>\n",
       "    .dataframe tbody tr th:only-of-type {\n",
       "        vertical-align: middle;\n",
       "    }\n",
       "\n",
       "    .dataframe tbody tr th {\n",
       "        vertical-align: top;\n",
       "    }\n",
       "\n",
       "    .dataframe thead th {\n",
       "        text-align: right;\n",
       "    }\n",
       "</style>\n",
       "<table border=\"1\" class=\"dataframe\">\n",
       "  <thead>\n",
       "    <tr style=\"text-align: right;\">\n",
       "      <th></th>\n",
       "      <th>Sorteos (%)</th>\n",
       "    </tr>\n",
       "    <tr>\n",
       "      <th>Equipo</th>\n",
       "      <th></th>\n",
       "    </tr>\n",
       "  </thead>\n",
       "  <tbody>\n",
       "    <tr>\n",
       "      <th>Bragantino</th>\n",
       "      <td>35.78</td>\n",
       "    </tr>\n",
       "    <tr>\n",
       "      <th>Deportes Tolima</th>\n",
       "      <td>11.33</td>\n",
       "    </tr>\n",
       "    <tr>\n",
       "      <th>Sporting Cristal</th>\n",
       "      <td>11.06</td>\n",
       "    </tr>\n",
       "    <tr>\n",
       "      <th>Caracas</th>\n",
       "      <td>10.87</td>\n",
       "    </tr>\n",
       "    <tr>\n",
       "      <th>Deportivo Táchira</th>\n",
       "      <td>10.41</td>\n",
       "    </tr>\n",
       "    <tr>\n",
       "      <th>Deportivo Cali</th>\n",
       "      <td>10.31</td>\n",
       "    </tr>\n",
       "    <tr>\n",
       "      <th>Alianza Lima</th>\n",
       "      <td>10.24</td>\n",
       "    </tr>\n",
       "  </tbody>\n",
       "</table>\n",
       "</div>"
      ],
      "text/plain": [
       "                   Sorteos (%)\n",
       "Equipo                        \n",
       "Bragantino               35.78\n",
       "Deportes Tolima          11.33\n",
       "Sporting Cristal         11.06\n",
       "Caracas                  10.87\n",
       "Deportivo Táchira        10.41\n",
       "Deportivo Cali           10.31\n",
       "Alianza Lima             10.24"
      ]
     },
     "execution_count": 211,
     "metadata": {},
     "output_type": "execute_result"
    },
    {
     "data": {
      "image/png": "[encoded data removed]",
      "text/plain": [
       "<Figure size 432x288 with 1 Axes>"
      ]
     },
     "metadata": {
      "needs_background": "light"
     },
     "output_type": "display_data"
    }
   ],
   "source": [
    "agrupar(temp_B3, 'Equipo')"
   ]
  },
  {
   "cell_type": "code",
   "execution_count": 212,
   "id": "84e08173",
   "metadata": {},
   "outputs": [
    {
     "data": {
      "text/html": [
       "<div>\n",
       "<style scoped>\n",
       "    .dataframe tbody tr th:only-of-type {\n",
       "        vertical-align: middle;\n",
       "    }\n",
       "\n",
       "    .dataframe tbody tr th {\n",
       "        vertical-align: top;\n",
       "    }\n",
       "\n",
       "    .dataframe thead th {\n",
       "        text-align: right;\n",
       "    }\n",
       "</style>\n",
       "<table border=\"1\" class=\"dataframe\">\n",
       "  <thead>\n",
       "    <tr style=\"text-align: right;\">\n",
       "      <th></th>\n",
       "      <th>Sorteos (%)</th>\n",
       "    </tr>\n",
       "    <tr>\n",
       "      <th>Pais</th>\n",
       "      <th></th>\n",
       "    </tr>\n",
       "  </thead>\n",
       "  <tbody>\n",
       "    <tr>\n",
       "      <th>Brasil</th>\n",
       "      <td>35.78</td>\n",
       "    </tr>\n",
       "    <tr>\n",
       "      <th>Colombia</th>\n",
       "      <td>21.63</td>\n",
       "    </tr>\n",
       "    <tr>\n",
       "      <th>Perú</th>\n",
       "      <td>21.31</td>\n",
       "    </tr>\n",
       "    <tr>\n",
       "      <th>Venezuela</th>\n",
       "      <td>21.27</td>\n",
       "    </tr>\n",
       "  </tbody>\n",
       "</table>\n",
       "</div>"
      ],
      "text/plain": [
       "           Sorteos (%)\n",
       "Pais                  \n",
       "Brasil           35.78\n",
       "Colombia         21.63\n",
       "Perú             21.31\n",
       "Venezuela        21.27"
      ]
     },
     "execution_count": 212,
     "metadata": {},
     "output_type": "execute_result"
    },
    {
     "data": {
      "image/png": "[encoded data removed]",
      "text/plain": [
       "<Figure size 432x288 with 1 Axes>"
      ]
     },
     "metadata": {
      "needs_background": "light"
     },
     "output_type": "display_data"
    }
   ],
   "source": [
    "agrupar(temp_B3, 'Pais')"
   ]
  },
  {
   "cell_type": "markdown",
   "id": "7d148044",
   "metadata": {},
   "source": [
    "Bombo 4:"
   ]
  },
  {
   "cell_type": "code",
   "execution_count": 213,
   "id": "3375caf6",
   "metadata": {},
   "outputs": [
    {
     "data": {
      "text/html": [
       "<div>\n",
       "<style scoped>\n",
       "    .dataframe tbody tr th:only-of-type {\n",
       "        vertical-align: middle;\n",
       "    }\n",
       "\n",
       "    .dataframe tbody tr th {\n",
       "        vertical-align: top;\n",
       "    }\n",
       "\n",
       "    .dataframe thead th {\n",
       "        text-align: right;\n",
       "    }\n",
       "</style>\n",
       "<table border=\"1\" class=\"dataframe\">\n",
       "  <thead>\n",
       "    <tr style=\"text-align: right;\">\n",
       "      <th></th>\n",
       "      <th>Sorteos (%)</th>\n",
       "    </tr>\n",
       "    <tr>\n",
       "      <th>Equipo</th>\n",
       "      <th></th>\n",
       "    </tr>\n",
       "  </thead>\n",
       "  <tbody>\n",
       "    <tr>\n",
       "      <th>Fortaleza</th>\n",
       "      <td>33.26</td>\n",
       "    </tr>\n",
       "    <tr>\n",
       "      <th>América M.G.</th>\n",
       "      <td>11.98</td>\n",
       "    </tr>\n",
       "    <tr>\n",
       "      <th>Estudiantes L.P.</th>\n",
       "      <td>11.56</td>\n",
       "    </tr>\n",
       "    <tr>\n",
       "      <th>The Strongest</th>\n",
       "      <td>11.49</td>\n",
       "    </tr>\n",
       "    <tr>\n",
       "      <th>Olimpia</th>\n",
       "      <td>10.83</td>\n",
       "    </tr>\n",
       "    <tr>\n",
       "      <th>Always Ready</th>\n",
       "      <td>10.54</td>\n",
       "    </tr>\n",
       "    <tr>\n",
       "      <th>Independiente Petrolero</th>\n",
       "      <td>10.34</td>\n",
       "    </tr>\n",
       "  </tbody>\n",
       "</table>\n",
       "</div>"
      ],
      "text/plain": [
       "                         Sorteos (%)\n",
       "Equipo                              \n",
       "Fortaleza                      33.26\n",
       "América M.G.                   11.98\n",
       "Estudiantes L.P.               11.56\n",
       "The Strongest                  11.49\n",
       "Olimpia                        10.83\n",
       "Always Ready                   10.54\n",
       "Independiente Petrolero        10.34"
      ]
     },
     "execution_count": 213,
     "metadata": {},
     "output_type": "execute_result"
    },
    {
     "data": {
      "image/png": "[encoded data removed]",
      "text/plain": [
       "<Figure size 432x288 with 1 Axes>"
      ]
     },
     "metadata": {
      "needs_background": "light"
     },
     "output_type": "display_data"
    }
   ],
   "source": [
    "agrupar(temp_B4, 'Equipo')"
   ]
  },
  {
   "cell_type": "code",
   "execution_count": 250,
   "id": "75d44068",
   "metadata": {},
   "outputs": [
    {
     "data": {
      "text/html": [
       "<div>\n",
       "<style scoped>\n",
       "    .dataframe tbody tr th:only-of-type {\n",
       "        vertical-align: middle;\n",
       "    }\n",
       "\n",
       "    .dataframe tbody tr th {\n",
       "        vertical-align: top;\n",
       "    }\n",
       "\n",
       "    .dataframe thead th {\n",
       "        text-align: right;\n",
       "    }\n",
       "</style>\n",
       "<table border=\"1\" class=\"dataframe\">\n",
       "  <thead>\n",
       "    <tr style=\"text-align: right;\">\n",
       "      <th></th>\n",
       "      <th>Sorteos (%)</th>\n",
       "    </tr>\n",
       "    <tr>\n",
       "      <th>Pais</th>\n",
       "      <th></th>\n",
       "    </tr>\n",
       "  </thead>\n",
       "  <tbody>\n",
       "    <tr>\n",
       "      <th>Brasil</th>\n",
       "      <td>45.24</td>\n",
       "    </tr>\n",
       "    <tr>\n",
       "      <th>Bolivia</th>\n",
       "      <td>32.37</td>\n",
       "    </tr>\n",
       "    <tr>\n",
       "      <th>Argentina</th>\n",
       "      <td>11.56</td>\n",
       "    </tr>\n",
       "    <tr>\n",
       "      <th>Paraguay</th>\n",
       "      <td>10.83</td>\n",
       "    </tr>\n",
       "  </tbody>\n",
       "</table>\n",
       "</div>"
      ],
      "text/plain": [
       "           Sorteos (%)\n",
       "Pais                  \n",
       "Brasil           45.24\n",
       "Bolivia          32.37\n",
       "Argentina        11.56\n",
       "Paraguay         10.83"
      ]
     },
     "execution_count": 250,
     "metadata": {},
     "output_type": "execute_result"
    },
    {
     "data": {
      "image/png": "[encoded data removed]",
      "text/plain": [
       "<Figure size 432x288 with 1 Axes>"
      ]
     },
     "metadata": {
      "needs_background": "light"
     },
     "output_type": "display_data"
    }
   ],
   "source": [
    "agrupar(temp_B4, 'Pais')"
   ]
  },
  {
   "cell_type": "markdown",
   "id": "a78f9b88",
   "metadata": {},
   "source": [
    "Bombos 3 y 4 en conjunto."
   ]
  },
  {
   "cell_type": "code",
   "execution_count": 222,
   "id": "6ca7d7a1",
   "metadata": {},
   "outputs": [
    {
     "data": {
      "text/html": [
       "<div>\n",
       "<style scoped>\n",
       "    .dataframe tbody tr th:only-of-type {\n",
       "        vertical-align: middle;\n",
       "    }\n",
       "\n",
       "    .dataframe tbody tr th {\n",
       "        vertical-align: top;\n",
       "    }\n",
       "\n",
       "    .dataframe thead th {\n",
       "        text-align: right;\n",
       "    }\n",
       "</style>\n",
       "<table border=\"1\" class=\"dataframe\">\n",
       "  <thead>\n",
       "    <tr style=\"text-align: right;\">\n",
       "      <th></th>\n",
       "      <th>Sorteos (%)</th>\n",
       "    </tr>\n",
       "    <tr>\n",
       "      <th>Equipo</th>\n",
       "      <th></th>\n",
       "    </tr>\n",
       "  </thead>\n",
       "  <tbody>\n",
       "    <tr>\n",
       "      <th>Bragantino</th>\n",
       "      <td>17.89</td>\n",
       "    </tr>\n",
       "    <tr>\n",
       "      <th>Fortaleza</th>\n",
       "      <td>16.63</td>\n",
       "    </tr>\n",
       "    <tr>\n",
       "      <th>América M.G.</th>\n",
       "      <td>5.99</td>\n",
       "    </tr>\n",
       "    <tr>\n",
       "      <th>Estudiantes L.P.</th>\n",
       "      <td>5.78</td>\n",
       "    </tr>\n",
       "    <tr>\n",
       "      <th>The Strongest</th>\n",
       "      <td>5.75</td>\n",
       "    </tr>\n",
       "    <tr>\n",
       "      <th>Deportes Tolima</th>\n",
       "      <td>5.66</td>\n",
       "    </tr>\n",
       "    <tr>\n",
       "      <th>Sporting Cristal</th>\n",
       "      <td>5.53</td>\n",
       "    </tr>\n",
       "    <tr>\n",
       "      <th>Caracas</th>\n",
       "      <td>5.43</td>\n",
       "    </tr>\n",
       "    <tr>\n",
       "      <th>Olimpia</th>\n",
       "      <td>5.42</td>\n",
       "    </tr>\n",
       "    <tr>\n",
       "      <th>Always Ready</th>\n",
       "      <td>5.27</td>\n",
       "    </tr>\n",
       "    <tr>\n",
       "      <th>Deportivo Táchira</th>\n",
       "      <td>5.20</td>\n",
       "    </tr>\n",
       "    <tr>\n",
       "      <th>Independiente Petrolero</th>\n",
       "      <td>5.17</td>\n",
       "    </tr>\n",
       "    <tr>\n",
       "      <th>Deportivo Cali</th>\n",
       "      <td>5.15</td>\n",
       "    </tr>\n",
       "    <tr>\n",
       "      <th>Alianza Lima</th>\n",
       "      <td>5.12</td>\n",
       "    </tr>\n",
       "  </tbody>\n",
       "</table>\n",
       "</div>"
      ],
      "text/plain": [
       "                         Sorteos (%)\n",
       "Equipo                              \n",
       "Bragantino                     17.89\n",
       "Fortaleza                      16.63\n",
       "América M.G.                    5.99\n",
       "Estudiantes L.P.                5.78\n",
       "The Strongest                   5.75\n",
       "Deportes Tolima                 5.66\n",
       "Sporting Cristal                5.53\n",
       "Caracas                         5.43\n",
       "Olimpia                         5.42\n",
       "Always Ready                    5.27\n",
       "Deportivo Táchira               5.20\n",
       "Independiente Petrolero         5.17\n",
       "Deportivo Cali                  5.15\n",
       "Alianza Lima                    5.12"
      ]
     },
     "execution_count": 222,
     "metadata": {},
     "output_type": "execute_result"
    },
    {
     "data": {
      "image/png": "[encoded data removed]",
      "text/plain": [
       "<Figure size 432x288 with 1 Axes>"
      ]
     },
     "metadata": {
      "needs_background": "light"
     },
     "output_type": "display_data"
    }
   ],
   "source": [
    "agrupar(temp_B3_y_B4, 'Equipo', rotacion = 90)"
   ]
  },
  {
   "cell_type": "code",
   "execution_count": 224,
   "id": "01591feb",
   "metadata": {},
   "outputs": [
    {
     "data": {
      "text/html": [
       "<div>\n",
       "<style scoped>\n",
       "    .dataframe tbody tr th:only-of-type {\n",
       "        vertical-align: middle;\n",
       "    }\n",
       "\n",
       "    .dataframe tbody tr th {\n",
       "        vertical-align: top;\n",
       "    }\n",
       "\n",
       "    .dataframe thead th {\n",
       "        text-align: right;\n",
       "    }\n",
       "</style>\n",
       "<table border=\"1\" class=\"dataframe\">\n",
       "  <thead>\n",
       "    <tr style=\"text-align: right;\">\n",
       "      <th></th>\n",
       "      <th>Sorteos (%)</th>\n",
       "    </tr>\n",
       "    <tr>\n",
       "      <th>Pais</th>\n",
       "      <th></th>\n",
       "    </tr>\n",
       "  </thead>\n",
       "  <tbody>\n",
       "    <tr>\n",
       "      <th>Brasil</th>\n",
       "      <td>40.51</td>\n",
       "    </tr>\n",
       "    <tr>\n",
       "      <th>Bolivia</th>\n",
       "      <td>16.19</td>\n",
       "    </tr>\n",
       "    <tr>\n",
       "      <th>Colombia</th>\n",
       "      <td>10.82</td>\n",
       "    </tr>\n",
       "    <tr>\n",
       "      <th>Perú</th>\n",
       "      <td>10.65</td>\n",
       "    </tr>\n",
       "    <tr>\n",
       "      <th>Venezuela</th>\n",
       "      <td>10.64</td>\n",
       "    </tr>\n",
       "    <tr>\n",
       "      <th>Argentina</th>\n",
       "      <td>5.78</td>\n",
       "    </tr>\n",
       "    <tr>\n",
       "      <th>Paraguay</th>\n",
       "      <td>5.42</td>\n",
       "    </tr>\n",
       "  </tbody>\n",
       "</table>\n",
       "</div>"
      ],
      "text/plain": [
       "           Sorteos (%)\n",
       "Pais                  \n",
       "Brasil           40.51\n",
       "Bolivia          16.19\n",
       "Colombia         10.82\n",
       "Perú             10.65\n",
       "Venezuela        10.64\n",
       "Argentina         5.78\n",
       "Paraguay          5.42"
      ]
     },
     "execution_count": 224,
     "metadata": {},
     "output_type": "execute_result"
    },
    {
     "data": {
      "image/png": "[encoded data removed]",
      "text/plain": [
       "<Figure size 432x288 with 1 Axes>"
      ]
     },
     "metadata": {
      "needs_background": "light"
     },
     "output_type": "display_data"
    }
   ],
   "source": [
    "agrupar(temp_B3_y_B4, 'Pais', rotacion = 15)"
   ]
  },
  {
   "cell_type": "markdown",
   "id": "d565fbd0",
   "metadata": {},
   "source": [
    "**Si el rival del bombo 1 es uruguayo:**"
   ]
  },
  {
   "cell_type": "code",
   "execution_count": 225,
   "id": "ec61e1a2",
   "metadata": {},
   "outputs": [],
   "source": [
    "# Buscar sorteos con equipos uruguayos en B1 (por id).\n",
    "temp_df = df_uc[df_uc['id_sorteo'].isin(B1_uruguay['id_sorteo'].to_list())]\n",
    "\n",
    "# Filtrar por bombos\n",
    "temp_B3 = temp_df[temp_df['Bombo'] == 3]\n",
    "temp_B4 = temp_df[temp_df['Bombo'] == 4]\n",
    "temp_B3_y_B4 = temp_df[temp_df['Bombo'].isin([3,4])]"
   ]
  },
  {
   "cell_type": "markdown",
   "id": "42a7fd6f",
   "metadata": {},
   "source": [
    "Bombo 3:"
   ]
  },
  {
   "cell_type": "code",
   "execution_count": 253,
   "id": "cc07c759",
   "metadata": {},
   "outputs": [
    {
     "data": {
      "text/html": [
       "<div>\n",
       "<style scoped>\n",
       "    .dataframe tbody tr th:only-of-type {\n",
       "        vertical-align: middle;\n",
       "    }\n",
       "\n",
       "    .dataframe tbody tr th {\n",
       "        vertical-align: top;\n",
       "    }\n",
       "\n",
       "    .dataframe thead th {\n",
       "        text-align: right;\n",
       "    }\n",
       "</style>\n",
       "<table border=\"1\" class=\"dataframe\">\n",
       "  <thead>\n",
       "    <tr style=\"text-align: right;\">\n",
       "      <th></th>\n",
       "      <th>Sorteos (%)</th>\n",
       "    </tr>\n",
       "    <tr>\n",
       "      <th>Equipo</th>\n",
       "      <th></th>\n",
       "    </tr>\n",
       "  </thead>\n",
       "  <tbody>\n",
       "    <tr>\n",
       "      <th>Bragantino</th>\n",
       "      <td>32.01</td>\n",
       "    </tr>\n",
       "    <tr>\n",
       "      <th>Colón</th>\n",
       "      <td>16.99</td>\n",
       "    </tr>\n",
       "    <tr>\n",
       "      <th>Sporting Cristal</th>\n",
       "      <td>9.31</td>\n",
       "    </tr>\n",
       "    <tr>\n",
       "      <th>Deportes Tolima</th>\n",
       "      <td>8.70</td>\n",
       "    </tr>\n",
       "    <tr>\n",
       "      <th>Caracas</th>\n",
       "      <td>8.49</td>\n",
       "    </tr>\n",
       "    <tr>\n",
       "      <th>Deportivo Táchira</th>\n",
       "      <td>8.45</td>\n",
       "    </tr>\n",
       "    <tr>\n",
       "      <th>Alianza Lima</th>\n",
       "      <td>8.29</td>\n",
       "    </tr>\n",
       "    <tr>\n",
       "      <th>Deportivo Cali</th>\n",
       "      <td>7.76</td>\n",
       "    </tr>\n",
       "  </tbody>\n",
       "</table>\n",
       "</div>"
      ],
      "text/plain": [
       "                   Sorteos (%)\n",
       "Equipo                        \n",
       "Bragantino               32.01\n",
       "Colón                    16.99\n",
       "Sporting Cristal          9.31\n",
       "Deportes Tolima           8.70\n",
       "Caracas                   8.49\n",
       "Deportivo Táchira         8.45\n",
       "Alianza Lima              8.29\n",
       "Deportivo Cali            7.76"
      ]
     },
     "execution_count": 253,
     "metadata": {},
     "output_type": "execute_result"
    },
    {
     "data": {
      "image/png": "[encoded data removed]",
      "text/plain": [
       "<Figure size 432x288 with 1 Axes>"
      ]
     },
     "metadata": {
      "needs_background": "light"
     },
     "output_type": "display_data"
    }
   ],
   "source": [
    "agrupar(temp_B3, 'Equipo')"
   ]
  },
  {
   "cell_type": "code",
   "execution_count": 254,
   "id": "312d8402",
   "metadata": {},
   "outputs": [
    {
     "data": {
      "text/html": [
       "<div>\n",
       "<style scoped>\n",
       "    .dataframe tbody tr th:only-of-type {\n",
       "        vertical-align: middle;\n",
       "    }\n",
       "\n",
       "    .dataframe tbody tr th {\n",
       "        vertical-align: top;\n",
       "    }\n",
       "\n",
       "    .dataframe thead th {\n",
       "        text-align: right;\n",
       "    }\n",
       "</style>\n",
       "<table border=\"1\" class=\"dataframe\">\n",
       "  <thead>\n",
       "    <tr style=\"text-align: right;\">\n",
       "      <th></th>\n",
       "      <th>Sorteos (%)</th>\n",
       "    </tr>\n",
       "    <tr>\n",
       "      <th>Pais</th>\n",
       "      <th></th>\n",
       "    </tr>\n",
       "  </thead>\n",
       "  <tbody>\n",
       "    <tr>\n",
       "      <th>Brasil</th>\n",
       "      <td>32.01</td>\n",
       "    </tr>\n",
       "    <tr>\n",
       "      <th>Perú</th>\n",
       "      <td>17.60</td>\n",
       "    </tr>\n",
       "    <tr>\n",
       "      <th>Argentina</th>\n",
       "      <td>16.99</td>\n",
       "    </tr>\n",
       "    <tr>\n",
       "      <th>Venezuela</th>\n",
       "      <td>16.95</td>\n",
       "    </tr>\n",
       "    <tr>\n",
       "      <th>Colombia</th>\n",
       "      <td>16.45</td>\n",
       "    </tr>\n",
       "  </tbody>\n",
       "</table>\n",
       "</div>"
      ],
      "text/plain": [
       "           Sorteos (%)\n",
       "Pais                  \n",
       "Brasil           32.01\n",
       "Perú             17.60\n",
       "Argentina        16.99\n",
       "Venezuela        16.95\n",
       "Colombia         16.45"
      ]
     },
     "execution_count": 254,
     "metadata": {},
     "output_type": "execute_result"
    },
    {
     "data": {
      "image/png": "[encoded data removed]",
      "text/plain": [
       "<Figure size 432x288 with 1 Axes>"
      ]
     },
     "metadata": {
      "needs_background": "light"
     },
     "output_type": "display_data"
    }
   ],
   "source": [
    "agrupar(temp_B3, 'Pais')"
   ]
  },
  {
   "cell_type": "markdown",
   "id": "86c2c1ec",
   "metadata": {},
   "source": [
    "Bombo 4:"
   ]
  },
  {
   "cell_type": "code",
   "execution_count": 255,
   "id": "46ab5c81",
   "metadata": {},
   "outputs": [
    {
     "data": {
      "text/html": [
       "<div>\n",
       "<style scoped>\n",
       "    .dataframe tbody tr th:only-of-type {\n",
       "        vertical-align: middle;\n",
       "    }\n",
       "\n",
       "    .dataframe tbody tr th {\n",
       "        vertical-align: top;\n",
       "    }\n",
       "\n",
       "    .dataframe thead th {\n",
       "        text-align: right;\n",
       "    }\n",
       "</style>\n",
       "<table border=\"1\" class=\"dataframe\">\n",
       "  <thead>\n",
       "    <tr style=\"text-align: right;\">\n",
       "      <th></th>\n",
       "      <th>Sorteos (%)</th>\n",
       "    </tr>\n",
       "    <tr>\n",
       "      <th>Equipo</th>\n",
       "      <th></th>\n",
       "    </tr>\n",
       "  </thead>\n",
       "  <tbody>\n",
       "    <tr>\n",
       "      <th>Fortaleza</th>\n",
       "      <td>31.80</td>\n",
       "    </tr>\n",
       "    <tr>\n",
       "      <th>Talleres</th>\n",
       "      <td>16.58</td>\n",
       "    </tr>\n",
       "    <tr>\n",
       "      <th>América M.G.</th>\n",
       "      <td>9.64</td>\n",
       "    </tr>\n",
       "    <tr>\n",
       "      <th>Always Ready</th>\n",
       "      <td>9.07</td>\n",
       "    </tr>\n",
       "    <tr>\n",
       "      <th>The Strongest</th>\n",
       "      <td>8.82</td>\n",
       "    </tr>\n",
       "    <tr>\n",
       "      <th>Olimpia</th>\n",
       "      <td>8.41</td>\n",
       "    </tr>\n",
       "    <tr>\n",
       "      <th>Independiente Petrolero</th>\n",
       "      <td>7.92</td>\n",
       "    </tr>\n",
       "    <tr>\n",
       "      <th>Estudiantes L.P.</th>\n",
       "      <td>7.76</td>\n",
       "    </tr>\n",
       "  </tbody>\n",
       "</table>\n",
       "</div>"
      ],
      "text/plain": [
       "                         Sorteos (%)\n",
       "Equipo                              \n",
       "Fortaleza                      31.80\n",
       "Talleres                       16.58\n",
       "América M.G.                    9.64\n",
       "Always Ready                    9.07\n",
       "The Strongest                   8.82\n",
       "Olimpia                         8.41\n",
       "Independiente Petrolero         7.92\n",
       "Estudiantes L.P.                7.76"
      ]
     },
     "execution_count": 255,
     "metadata": {},
     "output_type": "execute_result"
    },
    {
     "data": {
      "image/png": "[encoded data removed]",
      "text/plain": [
       "<Figure size 432x288 with 1 Axes>"
      ]
     },
     "metadata": {
      "needs_background": "light"
     },
     "output_type": "display_data"
    }
   ],
   "source": [
    "agrupar(temp_B4, 'Equipo')"
   ]
  },
  {
   "cell_type": "code",
   "execution_count": 256,
   "id": "0181d1b3",
   "metadata": {},
   "outputs": [
    {
     "data": {
      "text/html": [
       "<div>\n",
       "<style scoped>\n",
       "    .dataframe tbody tr th:only-of-type {\n",
       "        vertical-align: middle;\n",
       "    }\n",
       "\n",
       "    .dataframe tbody tr th {\n",
       "        vertical-align: top;\n",
       "    }\n",
       "\n",
       "    .dataframe thead th {\n",
       "        text-align: right;\n",
       "    }\n",
       "</style>\n",
       "<table border=\"1\" class=\"dataframe\">\n",
       "  <thead>\n",
       "    <tr style=\"text-align: right;\">\n",
       "      <th></th>\n",
       "      <th>Sorteos (%)</th>\n",
       "    </tr>\n",
       "    <tr>\n",
       "      <th>Pais</th>\n",
       "      <th></th>\n",
       "    </tr>\n",
       "  </thead>\n",
       "  <tbody>\n",
       "    <tr>\n",
       "      <th>Brasil</th>\n",
       "      <td>41.44</td>\n",
       "    </tr>\n",
       "    <tr>\n",
       "      <th>Bolivia</th>\n",
       "      <td>25.81</td>\n",
       "    </tr>\n",
       "    <tr>\n",
       "      <th>Argentina</th>\n",
       "      <td>24.33</td>\n",
       "    </tr>\n",
       "    <tr>\n",
       "      <th>Paraguay</th>\n",
       "      <td>8.41</td>\n",
       "    </tr>\n",
       "  </tbody>\n",
       "</table>\n",
       "</div>"
      ],
      "text/plain": [
       "           Sorteos (%)\n",
       "Pais                  \n",
       "Brasil           41.44\n",
       "Bolivia          25.81\n",
       "Argentina        24.33\n",
       "Paraguay          8.41"
      ]
     },
     "execution_count": 256,
     "metadata": {},
     "output_type": "execute_result"
    },
    {
     "data": {
      "image/png": "[encoded data removed]",
      "text/plain": [
       "<Figure size 432x288 with 1 Axes>"
      ]
     },
     "metadata": {
      "needs_background": "light"
     },
     "output_type": "display_data"
    }
   ],
   "source": [
    "agrupar(temp_B4, 'Pais')"
   ]
  },
  {
   "cell_type": "markdown",
   "id": "bbeea3ce",
   "metadata": {},
   "source": [
    "Bombos 3 y 4 en conjunto."
   ]
  },
  {
   "cell_type": "code",
   "execution_count": 227,
   "id": "f6aa9207",
   "metadata": {},
   "outputs": [
    {
     "data": {
      "text/html": [
       "<div>\n",
       "<style scoped>\n",
       "    .dataframe tbody tr th:only-of-type {\n",
       "        vertical-align: middle;\n",
       "    }\n",
       "\n",
       "    .dataframe tbody tr th {\n",
       "        vertical-align: top;\n",
       "    }\n",
       "\n",
       "    .dataframe thead th {\n",
       "        text-align: right;\n",
       "    }\n",
       "</style>\n",
       "<table border=\"1\" class=\"dataframe\">\n",
       "  <thead>\n",
       "    <tr style=\"text-align: right;\">\n",
       "      <th></th>\n",
       "      <th>Sorteos (%)</th>\n",
       "    </tr>\n",
       "    <tr>\n",
       "      <th>Equipo</th>\n",
       "      <th></th>\n",
       "    </tr>\n",
       "  </thead>\n",
       "  <tbody>\n",
       "    <tr>\n",
       "      <th>Bragantino</th>\n",
       "      <td>16.00</td>\n",
       "    </tr>\n",
       "    <tr>\n",
       "      <th>Fortaleza</th>\n",
       "      <td>15.90</td>\n",
       "    </tr>\n",
       "    <tr>\n",
       "      <th>Colón</th>\n",
       "      <td>8.49</td>\n",
       "    </tr>\n",
       "    <tr>\n",
       "      <th>Talleres</th>\n",
       "      <td>8.29</td>\n",
       "    </tr>\n",
       "    <tr>\n",
       "      <th>América M.G.</th>\n",
       "      <td>4.82</td>\n",
       "    </tr>\n",
       "    <tr>\n",
       "      <th>Sporting Cristal</th>\n",
       "      <td>4.66</td>\n",
       "    </tr>\n",
       "    <tr>\n",
       "      <th>Always Ready</th>\n",
       "      <td>4.53</td>\n",
       "    </tr>\n",
       "    <tr>\n",
       "      <th>The Strongest</th>\n",
       "      <td>4.41</td>\n",
       "    </tr>\n",
       "    <tr>\n",
       "      <th>Deportes Tolima</th>\n",
       "      <td>4.35</td>\n",
       "    </tr>\n",
       "    <tr>\n",
       "      <th>Caracas</th>\n",
       "      <td>4.25</td>\n",
       "    </tr>\n",
       "    <tr>\n",
       "      <th>Deportivo Táchira</th>\n",
       "      <td>4.23</td>\n",
       "    </tr>\n",
       "    <tr>\n",
       "      <th>Olimpia</th>\n",
       "      <td>4.21</td>\n",
       "    </tr>\n",
       "    <tr>\n",
       "      <th>Alianza Lima</th>\n",
       "      <td>4.14</td>\n",
       "    </tr>\n",
       "    <tr>\n",
       "      <th>Independiente Petrolero</th>\n",
       "      <td>3.96</td>\n",
       "    </tr>\n",
       "    <tr>\n",
       "      <th>Deportivo Cali</th>\n",
       "      <td>3.88</td>\n",
       "    </tr>\n",
       "    <tr>\n",
       "      <th>Estudiantes L.P.</th>\n",
       "      <td>3.88</td>\n",
       "    </tr>\n",
       "  </tbody>\n",
       "</table>\n",
       "</div>"
      ],
      "text/plain": [
       "                         Sorteos (%)\n",
       "Equipo                              \n",
       "Bragantino                     16.00\n",
       "Fortaleza                      15.90\n",
       "Colón                           8.49\n",
       "Talleres                        8.29\n",
       "América M.G.                    4.82\n",
       "Sporting Cristal                4.66\n",
       "Always Ready                    4.53\n",
       "The Strongest                   4.41\n",
       "Deportes Tolima                 4.35\n",
       "Caracas                         4.25\n",
       "Deportivo Táchira               4.23\n",
       "Olimpia                         4.21\n",
       "Alianza Lima                    4.14\n",
       "Independiente Petrolero         3.96\n",
       "Deportivo Cali                  3.88\n",
       "Estudiantes L.P.                3.88"
      ]
     },
     "execution_count": 227,
     "metadata": {},
     "output_type": "execute_result"
    },
    {
     "data": {
      "image/png": "[encoded data removed]",
      "text/plain": [
       "<Figure size 432x288 with 1 Axes>"
      ]
     },
     "metadata": {
      "needs_background": "light"
     },
     "output_type": "display_data"
    }
   ],
   "source": [
    "agrupar(temp_B3_y_B4, 'Equipo', rotacion = 90)"
   ]
  },
  {
   "cell_type": "code",
   "execution_count": 229,
   "id": "ae327cc8",
   "metadata": {},
   "outputs": [
    {
     "data": {
      "text/html": [
       "<div>\n",
       "<style scoped>\n",
       "    .dataframe tbody tr th:only-of-type {\n",
       "        vertical-align: middle;\n",
       "    }\n",
       "\n",
       "    .dataframe tbody tr th {\n",
       "        vertical-align: top;\n",
       "    }\n",
       "\n",
       "    .dataframe thead th {\n",
       "        text-align: right;\n",
       "    }\n",
       "</style>\n",
       "<table border=\"1\" class=\"dataframe\">\n",
       "  <thead>\n",
       "    <tr style=\"text-align: right;\">\n",
       "      <th></th>\n",
       "      <th>Sorteos (%)</th>\n",
       "    </tr>\n",
       "    <tr>\n",
       "      <th>Pais</th>\n",
       "      <th></th>\n",
       "    </tr>\n",
       "  </thead>\n",
       "  <tbody>\n",
       "    <tr>\n",
       "      <th>Brasil</th>\n",
       "      <td>36.73</td>\n",
       "    </tr>\n",
       "    <tr>\n",
       "      <th>Argentina</th>\n",
       "      <td>20.66</td>\n",
       "    </tr>\n",
       "    <tr>\n",
       "      <th>Bolivia</th>\n",
       "      <td>12.91</td>\n",
       "    </tr>\n",
       "    <tr>\n",
       "      <th>Perú</th>\n",
       "      <td>8.80</td>\n",
       "    </tr>\n",
       "    <tr>\n",
       "      <th>Venezuela</th>\n",
       "      <td>8.47</td>\n",
       "    </tr>\n",
       "    <tr>\n",
       "      <th>Colombia</th>\n",
       "      <td>8.23</td>\n",
       "    </tr>\n",
       "    <tr>\n",
       "      <th>Paraguay</th>\n",
       "      <td>4.21</td>\n",
       "    </tr>\n",
       "  </tbody>\n",
       "</table>\n",
       "</div>"
      ],
      "text/plain": [
       "           Sorteos (%)\n",
       "Pais                  \n",
       "Brasil           36.73\n",
       "Argentina        20.66\n",
       "Bolivia          12.91\n",
       "Perú              8.80\n",
       "Venezuela         8.47\n",
       "Colombia          8.23\n",
       "Paraguay          4.21"
      ]
     },
     "execution_count": 229,
     "metadata": {},
     "output_type": "execute_result"
    },
    {
     "data": {
      "image/png": "[encoded data removed]",
      "text/plain": [
       "<Figure size 432x288 with 1 Axes>"
      ]
     },
     "metadata": {
      "needs_background": "light"
     },
     "output_type": "display_data"
    }
   ],
   "source": [
    "agrupar(temp_B3_y_B4, 'Pais', rotacion = 15)"
   ]
  },
  {
   "cell_type": "markdown",
   "id": "5d22afd7",
   "metadata": {},
   "source": [
    "### 4.3. Análisis de grupos con equipos brasileños y/o argentinos.\n",
    "\n",
    "En esta sección se analiza el porcentaje de sorteos simulados en los que el grupo de la UC cumple las siguientes condiciones:\n",
    "\n",
    "1. Contiene al menos un equipo brasileño.\n",
    "   * Contiene un equipo brasileño.\n",
    "   * Contiene dos equipos brasileños.\n",
    "   \n",
    "   \n",
    "2. Contiene al menos un equipo argentino.\n",
    "   * Contiene un equipo argentino.\n",
    "   * Contiene dos equipos argentinos.\n",
    "   \n",
    "   \n",
    "3. Contiene al menos un equipo brasileño y no tiene equipos argentinos.\n",
    "   * Contiene un equipo brasileño y no tiene equipos argentinos.\n",
    "   * Contiene dos equipos brasileños y no tiene equipos argentinos.\n",
    "   \n",
    "   \n",
    "4. Contiene al menos un equipo argentino y no tiene equipos brasileños.\n",
    "   * Contiene un equipo argentino y no tiene equipos brasileños.\n",
    "   * Contiene dos equipos argentinos y no tiene equipos brasileños.\n",
    "   \n",
    "   \n",
    "5. Contiene al menos un equipo brasileño y al menos un equipo argentino.\n",
    "   * Contiene un equipó brasileño y un equipo argentino.\n",
    "   * Contiene dos equipos brasileños y un equipo argentino.\n",
    "   * Contiene dos equipos argentinos y un equipo brasileño.\n",
    "   \n",
    "   \n",
    "6. No tiene equipos brasileños ni argentinos."
   ]
  },
  {
   "cell_type": "code",
   "execution_count": 230,
   "id": "eb09ae00",
   "metadata": {},
   "outputs": [
    {
     "name": "stdout",
     "output_type": "stream",
     "text": [
      "Un 87.4% de los grupos sorteados para la UC contiene al menos un equipo brasileño:\n",
      "--- Un 77.5% de los grupos contiene sólo un equipo brasileño.\n",
      "--- Un 9.9% de los grupos contiene dos equipos brasileños.\n",
      "\n",
      "Un 60.6% de los grupos sorteados para la UC contiene al menos un equipo argentino:\n",
      "--- Un 55.3% de los grupos contiene sólo un equipo argentino.\n",
      "--- Un 5.3% de los grupos dos equipos argentinos.\n",
      "\n",
      "Un 36.8% de los grupos sorteados para la UC contiene al menos un equipo brasileño y no tiene equipos argentinos:\n",
      "--- Un 30.6% de los grupos contiene sólo un equipo brasileño y no tiene equipos argentinos.\n",
      "--- Un 6.2% de los grupos dos equipos brasileños y no tiene equipos argentinos.\n",
      "\n",
      "Un 10.1% de los grupos sorteados para la UC contiene al menos un equipo argentino y no tiene equipos brasileños:\n",
      "--- Un 8.3% de los grupos contiene sólo un equipo argentino y no tiene equipos brasileños.\n",
      "--- Un 1.8% de los grupos dos equipos argentinos y no tiene equipos brasileños.\n",
      "\n",
      "Un 50.5% de los grupos sorteados para la UC contiene al menos un equipo brasileño y al menos un equipo argentino:\n",
      "--- Un 43.4% de los grupos contiene sólo un equipo argentino y sólo un equipo brasileño.\n",
      "--- Un 3.6% de los grupos contiene dos un equipos brasileños y uno argentino.\n",
      "--- Un 3.5% de los grupos contiene dos un equipos argentinos y uno brasileño.\n",
      "\n",
      "Un 2.5% de los grupos sorteados para la UC no tiene equipos brasileños ni argentinos\n"
     ]
    }
   ],
   "source": [
    "# Grupos con equipos brasileños.\n",
    "# Obtener lista de ids unicos.\n",
    "ids_unicos = list(df_uc['id_sorteo'].unique())\n",
    "\n",
    "# Obtener equipos de Brasil \n",
    "equipos_brasil = df_uc[df_uc['Pais'] == 'Brasil']\n",
    "                  \n",
    "# Obtener ids de los sorteos en que se encuentran \n",
    "ids_grupos_brasil = equipos_brasil['id_sorteo'].to_list()\n",
    "ids_grupos_brasil.sort()\n",
    "                  \n",
    "# Obtener valores únicos en la lista con ids:\n",
    "ids_unicos_brasil = set(ids_grupos_brasil)\n",
    "\n",
    "# Función que calcula el porcentaje de grupos que cumplen cierta condición (estos grupos se ingresan como lista o set de sus ids)\n",
    "def porcentaje(lista):\n",
    "    return round(len(lista)/len(ids_unicos) * 100, 1)\n",
    "\n",
    "# Grupos con sólo un equipo brasileño y con dos equipos brasileños\n",
    "from collections import Counter\n",
    "# Cuenta cuantas veces se encuentra un id_sorteo en la lista de ids.\n",
    "counts = Counter(ids_grupos_brasil)\n",
    "# Sólo un brasileño\n",
    "uno_de_brasil = [id for id in ids if counts[id] == 1]\n",
    "# Dos brasileños\n",
    "dos_de_brasil = [id for id in ids if counts[id] == 2]\n",
    "\n",
    "\n",
    "# Grupos con equipos argentinos.\n",
    "\n",
    "# Obtener equipos de Argentina\n",
    "equipos_argentina = df_uc[df_uc['Pais'] == 'Argentina']\n",
    "                  \n",
    "# Obtener ids de los sorteos en que se encuentran \n",
    "ids_grupos_argentina  = equipos_argentina['id_sorteo'].to_list()\n",
    "ids_grupos_argentina.sort()\n",
    "                  \n",
    "# Obtener valores únicos en la lista con ids:\n",
    "ids_unicos_argentina = set(ids_grupos_argentina)\n",
    "\n",
    "# Grupos con sólo un equipo argentino y con dos equipos argentinos\n",
    "# Cuenta cuantas veces se encuentra un id_sorteo en la lista de ids.\n",
    "counts = Counter(ids_grupos_argentina)\n",
    "# Sólo un argentino\n",
    "uno_de_argentina = [id for id in ids if counts[id] == 1]\n",
    "# Dos argentinos\n",
    "dos_de_argentina = [id for id in ids if counts[id] == 2]\n",
    "\n",
    "\n",
    "# Grupos con equipos brasileños sin argentinos:\n",
    "brasil_sin_argentina = ids_unicos_brasil - ids_unicos_argentina\n",
    "uno_brasil_sin_argentina = set(uno_de_brasil) - ids_unicos_argentina\n",
    "dos_brasil_sin_argentina = set(dos_de_brasil) - ids_unicos_argentina\n",
    "\n",
    "# Grupos con equipos argentinos sin brasileños:\n",
    "argentina_sin_brasil = ids_unicos_argentina - ids_unicos_brasil\n",
    "uno_argentina_sin_brasil = set(uno_de_argentina) - ids_unicos_brasil\n",
    "dos_argentina_sin_brasil = set(dos_de_argentina) - ids_unicos_brasil\n",
    "\n",
    "# Grupos con equipos argentinos y brasileños\n",
    "ids_unicos_argentina_brasil = ids_unicos_argentina & ids_unicos_brasil\n",
    "\n",
    "# Con un argentino y un brasileño.\n",
    "uno_y_uno = set(uno_de_argentina) & set(uno_de_brasil)\n",
    "dos_argentina_uno_brasil = set(dos_de_argentina) & set(uno_de_brasil)\n",
    "dos_brasil_uno_argentina = set(dos_de_brasil) & set(uno_de_argentina)\n",
    "\n",
    "# Sin equipos brasileños ni argentinos:\n",
    "# Obtener lista de ids con brasileños o argentinos, sacar el porcentaje y restarselo a 100\n",
    "brasil_o_argentina = ids_unicos_brasil | ids_unicos_argentina\n",
    "\n",
    "# Salida: \n",
    "print(f'Un {porcentaje(ids_unicos_brasil)}% de los grupos sorteados para la UC contiene al menos un equipo brasileño:')\n",
    "print(f'--- Un {porcentaje(uno_de_brasil)}% de los grupos contiene sólo un equipo brasileño.')\n",
    "print(f'--- Un {porcentaje(dos_de_brasil)}% de los grupos contiene dos equipos brasileños.')\n",
    "print('')\n",
    "print(f'Un {porcentaje(ids_unicos_argentina)}% de los grupos sorteados para la UC contiene al menos un equipo argentino:')\n",
    "print(f'--- Un {porcentaje(uno_de_argentina)}% de los grupos contiene sólo un equipo argentino.')\n",
    "print(f'--- Un {porcentaje(dos_de_argentina)}% de los grupos dos equipos argentinos.')\n",
    "print('')\n",
    "print(f'Un {porcentaje(brasil_sin_argentina)}% de los grupos sorteados para la UC contiene al menos un equipo brasileño y no tiene equipos argentinos:')\n",
    "print(f'--- Un {porcentaje(uno_brasil_sin_argentina)}% de los grupos contiene sólo un equipo brasileño y no tiene equipos argentinos.')\n",
    "print(f'--- Un {porcentaje(dos_brasil_sin_argentina)}% de los grupos dos equipos brasileños y no tiene equipos argentinos.')\n",
    "print('')\n",
    "print(f'Un {porcentaje(argentina_sin_brasil)}% de los grupos sorteados para la UC contiene al menos un equipo argentino y no tiene equipos brasileños:')\n",
    "print(f'--- Un {porcentaje(uno_argentina_sin_brasil)}% de los grupos contiene sólo un equipo argentino y no tiene equipos brasileños.')\n",
    "print(f'--- Un {porcentaje(dos_argentina_sin_brasil)}% de los grupos dos equipos argentinos y no tiene equipos brasileños.')\n",
    "print('')\n",
    "print(f'Un {porcentaje(ids_unicos_argentina_brasil)}% de los grupos sorteados para la UC contiene al menos un equipo brasileño y al menos un equipo argentino:')\n",
    "print(f'--- Un {porcentaje(uno_y_uno)}% de los grupos contiene sólo un equipo argentino y sólo un equipo brasileño.')\n",
    "print(f'--- Un {porcentaje(dos_brasil_uno_argentina)}% de los grupos contiene dos un equipos brasileños y uno argentino.')\n",
    "print(f'--- Un {porcentaje(dos_argentina_uno_brasil)}% de los grupos contiene dos un equipos argentinos y uno brasileño.')\n",
    "print('')\n",
    "print(f'Un {100 - porcentaje(brasil_o_argentina)}% de los grupos sorteados para la UC no tiene equipos brasileños ni argentinos')"
   ]
  },
  {
   "cell_type": "markdown",
   "id": "f98a4ec0",
   "metadata": {},
   "source": [
    "Otra manera de visualizar esta distribución es crear una matriz en la que las columnas representen el número de equipos brasileños en el grupo, las filas representen el número de equipos argentinos en el grupo, y los valores de las intersecciones representen el porcentaje de simulaciones en las que el grupo de la UC cumple con el número de equipos de cada país. Por ejemplo, en la posición [0,0] debería ir 2,5% ya que es el porcentaje de simulaciones en las que el grupo de la Universidad Católica no contiene equipos brasileños ni argentinos."
   ]
  },
  {
   "cell_type": "code",
   "execution_count": 179,
   "id": "d04975ac",
   "metadata": {},
   "outputs": [
    {
     "data": {
      "image/png": "[encoded data removed]",
      "text/plain": [
       "<Figure size 540x540 with 1 Axes>"
      ]
     },
     "metadata": {
      "needs_background": "light"
     },
     "output_type": "display_data"
    }
   ],
   "source": [
    "import matplotlib.cm as cm\n",
    "import numpy as np\n",
    "# Visualmente:\n",
    "# Crear una matriz: las columnas representan el número de equipos brasileños en el grupo\n",
    "#                   las filas representan el número de equipos argentinos en el grupo\n",
    "#                   cada intesección entre filas y columnas es el porcentaje de grupos que cumplen esa condición.\n",
    "#                   ej: en [0,0] se encuentra el porcentaje de grupos sin equipos brasileños ni argentinos\n",
    "#                   ej: en [0,1] se encuentra el porcentaje de grupos con un equipo brasileño y sin equipos argentinos.\n",
    "cero_argentinos = [100 - porcentaje(brasil_o_argentina), porcentaje(uno_brasil_sin_argentina), porcentaje(dos_brasil_sin_argentina)]\n",
    "un_argentino = [porcentaje(uno_argentina_sin_brasil), porcentaje(uno_y_uno), porcentaje(dos_brasil_uno_argentina)]\n",
    "dos_argentinos = [porcentaje(dos_argentina_sin_brasil), porcentaje(dos_argentina_uno_brasil), 0]\n",
    "\n",
    "matriz = [cero_argentinos, un_argentino, dos_argentinos]\n",
    "# Grafico\n",
    "fig, ax = plt.subplots(figsize=(7.5,7.5\n",
    "                               ))\n",
    "ax.matshow(matriz,  cmap= cm.Blues);\n",
    "plt.title('Equipos brasileños', size = 16)\n",
    "plt.ylabel('Equipos argentinos', size = 16);\n",
    "\n",
    "# Anotar los valores dentro del gráfico\n",
    "size = 15 #tamaño de la letra\n",
    "for i in range(len(matriz)):\n",
    "    for j in range(len(cero_argentinos)):\n",
    "        color = 'k'\n",
    "        if matriz[i][j] > 30:\n",
    "            color = 'w'\n",
    "        text = ax.text(j, i, f'{matriz[i][j]}%',\n",
    "                       ha=\"center\", va=\"center\", color=color, size = size)\n",
    "        \n",
    "for i in range(len(matriz)):\n",
    "    row = np.asarray(matriz[i])\n",
    "    suma = round(row.sum(), 1)\n",
    "    text = ax.text(3, i, f'= {suma}%',\n",
    "                       ha=\"center\", va=\"center\", color=color, size = size)\n",
    "    \n",
    "\n",
    "for j in range(len(un_argentino)):\n",
    "    suma = 0\n",
    "    for i in range(len(matriz)):\n",
    "        suma += matriz[i][j]\n",
    "    suma = round(suma, 1)\n",
    "    text = ax.text(j, 3, '=',\n",
    "                       ha=\"center\", va=\"bottom\", color=color, size = size)\n",
    "    text = ax.text(j, 3, f'{suma}%',\n",
    "                       ha=\"center\", va=\"top\", color=color, size=size)"
   ]
  },
  {
   "cell_type": "markdown",
   "id": "ec6f2104",
   "metadata": {},
   "source": [
    "### 4.4. Grupos más repetidos.\n",
    "\n"
   ]
  },
  {
   "cell_type": "markdown",
   "id": "0a3421e3",
   "metadata": {},
   "source": [
    "La función utilizada para encontrar sorteos iguales tarda mucho en ejecutarse (falta encontrar la manera de hacerla más rápida), por lo que los resultados se guardan en el archivo grupos_iguales.csv. Se recomienda no ejecutar la siguiente celda. "
   ]
  },
  {
   "cell_type": "code",
   "execution_count": null,
   "id": "d1e164cc",
   "metadata": {},
   "outputs": [],
   "source": [
    "# No ejecutar esta celda\n",
    "# Función que compara si grupos de dos sorteos distintos son iguales o no:\n",
    "def es_igual(df, id1, id2):\n",
    "    sorteo1 = set(df[df['id_sorteo'] == id1]['Equipo'])\n",
    "    sorteo2 = set(df[df['id_sorteo'] == id2]['Equipo'])\n",
    "    return sorteo1 == sorteo2\n",
    "\n",
    "# Esta funcion tarda mucho en ejecutarse, hay que buscar otra forma de hacerlo\n",
    "def encontrar_sorteos_iguales(df):\n",
    "    ids = list(df['id_sorteo'].unique())\n",
    "    sorteos_iguales = []\n",
    "    for id1 in ids:\n",
    "        nueva_fila = []\n",
    "        for id2 in ids:\n",
    "            if es_igual(df, id1, id2):\n",
    "                nueva_fila.append(id2)\n",
    "                ids.remove(id2)\n",
    "    return sorteos_iguales\n",
    "\n",
    "# Comentado porque tarda mucho en ejecutarse\n",
    "sorteos_iguales = encontrar_sorteos_iguales(df_uc)\n",
    "sorteos_iguales_df = pd.DataFrame(sorteos_iguales)\n",
    "sorteos_iguales_df.to_csv('sorteos_iguales.csv', index = False)"
   ]
  },
  {
   "cell_type": "code",
   "execution_count": null,
   "id": "38d3bc9d",
   "metadata": {},
   "outputs": [],
   "source": [
    "# Cargar sorteos iguales\n",
    "\n",
    "sorteos_iguales_1 = pd.read_csv('sorteos_iguales.csv')"
   ]
  },
  {
   "cell_type": "code",
   "execution_count": 247,
   "id": "543cf54b",
   "metadata": {},
   "outputs": [
    {
     "data": {
      "text/plain": [
       "[]"
      ]
     },
     "execution_count": 247,
     "metadata": {},
     "output_type": "execute_result"
    }
   ],
   "source": [
    "\n"
   ]
  }
 ],
 "metadata": {
  "kernelspec": {
   "display_name": "Python 3",
   "language": "python",
   "name": "python3"
  },
  "language_info": {
   "codemirror_mode": {
    "name": "ipython",
    "version": 3
   },
   "file_extension": ".py",
   "mimetype": "text/x-python",
   "name": "python",
   "nbconvert_exporter": "python",
   "pygments_lexer": "ipython3",
   "version": "3.8.8"
  }
 },
 "nbformat": 4,
 "nbformat_minor": 5
}
